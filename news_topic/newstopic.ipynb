{
 "cells": [
  {
   "cell_type": "code",
   "execution_count": 1,
   "id": "7c38f9cc-65f8-4340-b267-c392459fefd0",
   "metadata": {},
   "outputs": [],
   "source": [
    "import pandas as pd\n",
    "import numpy as np\n",
    "import matplotlib.pyplot as plt\n",
    "import re\n",
    "import json\n",
    "import os\n",
    "import tqdm\n",
    "import sklearn\n",
    "from sklearn.preprocessing import LabelEncoder\n",
    "\n",
    "from sklearn.metrics import log_loss, accuracy_score,f1_score\n",
    "from transformers import BertModel, BertTokenizer\n",
    "import torch\n",
    "import torch.nn as nn\n",
    "import torch.nn.functional as F\n",
    "import torch.optim as optim\n",
    "from torch.utils.data import DataLoader, Dataset"
   ]
  },
  {
   "cell_type": "code",
   "execution_count": 4,
   "id": "c7fb8789-66a9-41ce-a408-c0124c0d193a",
   "metadata": {},
   "outputs": [],
   "source": [
    "path = 'news'"
   ]
  },
  {
   "cell_type": "code",
   "execution_count": 6,
   "id": "82a45a82-f5e0-48a0-85ca-1988c55ec5ef",
   "metadata": {},
   "outputs": [],
   "source": [
    "train = pd.read_csv(os.path.join(path, 'train_data.csv'))\n",
    "test = pd.read_csv(os.path.join(path, 'test_data.csv'))"
   ]
  },
  {
   "cell_type": "code",
   "execution_count": 8,
   "id": "e6c45d5b-86fd-43a1-b142-dade269c195f",
   "metadata": {},
   "outputs": [],
   "source": [
    "topic_dict = pd.read_csv(os.path.join(path,'topic_dict.csv'))"
   ]
  },
  {
   "cell_type": "code",
   "execution_count": 27,
   "id": "6288afdf-db16-4682-a10f-a4b01762bd92",
   "metadata": {},
   "outputs": [],
   "source": [
    "def text_cleaning(sentence):\n",
    "    sentence = re.sub('[^a-zA-Zㄱ-ㅣ가-힣0-9]', ' ', sentence)\n",
    "    sentence = sentence.lower()\n",
    "    return sentence"
   ]
  },
  {
   "cell_type": "code",
   "execution_count": 28,
   "id": "459b8df0-9210-433c-926a-f2f725b12e84",
   "metadata": {},
   "outputs": [
    {
     "data": {
      "text/html": [
       "<div>\n",
       "<style scoped>\n",
       "    .dataframe tbody tr th:only-of-type {\n",
       "        vertical-align: middle;\n",
       "    }\n",
       "\n",
       "    .dataframe tbody tr th {\n",
       "        vertical-align: top;\n",
       "    }\n",
       "\n",
       "    .dataframe thead th {\n",
       "        text-align: right;\n",
       "    }\n",
       "</style>\n",
       "<table border=\"1\" class=\"dataframe\">\n",
       "  <thead>\n",
       "    <tr style=\"text-align: right;\">\n",
       "      <th></th>\n",
       "      <th>index</th>\n",
       "      <th>title</th>\n",
       "      <th>topic_idx</th>\n",
       "      <th>clean_text</th>\n",
       "    </tr>\n",
       "  </thead>\n",
       "  <tbody>\n",
       "    <tr>\n",
       "      <th>0</th>\n",
       "      <td>0</td>\n",
       "      <td>인천→핀란드 항공기 결항…휴가철 여행객 분통</td>\n",
       "      <td>4</td>\n",
       "      <td>인천 핀란드 항공기 결항 휴가철 여행객 분통</td>\n",
       "    </tr>\n",
       "    <tr>\n",
       "      <th>1</th>\n",
       "      <td>1</td>\n",
       "      <td>실리콘밸리 넘어서겠다…구글 15조원 들여 美전역 거점화</td>\n",
       "      <td>4</td>\n",
       "      <td>실리콘밸리 넘어서겠다 구글 15조원 들여  전역 거점화</td>\n",
       "    </tr>\n",
       "    <tr>\n",
       "      <th>2</th>\n",
       "      <td>2</td>\n",
       "      <td>이란 외무 긴장완화 해결책은 미국이 경제전쟁 멈추는 것</td>\n",
       "      <td>4</td>\n",
       "      <td>이란 외무 긴장완화 해결책은 미국이 경제전쟁 멈추는 것</td>\n",
       "    </tr>\n",
       "    <tr>\n",
       "      <th>3</th>\n",
       "      <td>3</td>\n",
       "      <td>NYT 클린턴 측근韓기업 특수관계 조명…공과 사 맞물려종합</td>\n",
       "      <td>4</td>\n",
       "      <td>NYT 클린턴 측근 기업 특수관계 조명 공과 사 맞물려종합</td>\n",
       "    </tr>\n",
       "    <tr>\n",
       "      <th>4</th>\n",
       "      <td>4</td>\n",
       "      <td>시진핑 트럼프에 중미 무역협상 조속 타결 희망</td>\n",
       "      <td>4</td>\n",
       "      <td>시진핑 트럼프에 중미 무역협상 조속 타결 희망</td>\n",
       "    </tr>\n",
       "  </tbody>\n",
       "</table>\n",
       "</div>"
      ],
      "text/plain": [
       "   index                             title  topic_idx  \\\n",
       "0      0          인천→핀란드 항공기 결항…휴가철 여행객 분통          4   \n",
       "1      1    실리콘밸리 넘어서겠다…구글 15조원 들여 美전역 거점화          4   \n",
       "2      2    이란 외무 긴장완화 해결책은 미국이 경제전쟁 멈추는 것          4   \n",
       "3      3  NYT 클린턴 측근韓기업 특수관계 조명…공과 사 맞물려종합          4   \n",
       "4      4         시진핑 트럼프에 중미 무역협상 조속 타결 희망          4   \n",
       "\n",
       "                         clean_text  \n",
       "0          인천 핀란드 항공기 결항 휴가철 여행객 분통  \n",
       "1    실리콘밸리 넘어서겠다 구글 15조원 들여  전역 거점화  \n",
       "2    이란 외무 긴장완화 해결책은 미국이 경제전쟁 멈추는 것  \n",
       "3  NYT 클린턴 측근 기업 특수관계 조명 공과 사 맞물려종합  \n",
       "4         시진핑 트럼프에 중미 무역협상 조속 타결 희망  "
      ]
     },
     "execution_count": 28,
     "metadata": {},
     "output_type": "execute_result"
    }
   ],
   "source": [
    "train.head()"
   ]
  },
  {
   "cell_type": "code",
   "execution_count": 29,
   "id": "2f230264-9e29-4ce3-a217-aac7e58037a0",
   "metadata": {},
   "outputs": [],
   "source": [
    "train['clean_text'] = train['title'].apply(text_cleaning)"
   ]
  },
  {
   "cell_type": "code",
   "execution_count": 30,
   "id": "0875a5ba-3edd-4826-8006-bb053b908093",
   "metadata": {},
   "outputs": [
    {
     "data": {
      "text/html": [
       "<div>\n",
       "<style scoped>\n",
       "    .dataframe tbody tr th:only-of-type {\n",
       "        vertical-align: middle;\n",
       "    }\n",
       "\n",
       "    .dataframe tbody tr th {\n",
       "        vertical-align: top;\n",
       "    }\n",
       "\n",
       "    .dataframe thead th {\n",
       "        text-align: right;\n",
       "    }\n",
       "</style>\n",
       "<table border=\"1\" class=\"dataframe\">\n",
       "  <thead>\n",
       "    <tr style=\"text-align: right;\">\n",
       "      <th></th>\n",
       "      <th>index</th>\n",
       "      <th>title</th>\n",
       "      <th>topic_idx</th>\n",
       "      <th>clean_text</th>\n",
       "    </tr>\n",
       "  </thead>\n",
       "  <tbody>\n",
       "    <tr>\n",
       "      <th>0</th>\n",
       "      <td>0</td>\n",
       "      <td>인천→핀란드 항공기 결항…휴가철 여행객 분통</td>\n",
       "      <td>4</td>\n",
       "      <td>인천 핀란드 항공기 결항 휴가철 여행객 분통</td>\n",
       "    </tr>\n",
       "    <tr>\n",
       "      <th>1</th>\n",
       "      <td>1</td>\n",
       "      <td>실리콘밸리 넘어서겠다…구글 15조원 들여 美전역 거점화</td>\n",
       "      <td>4</td>\n",
       "      <td>실리콘밸리 넘어서겠다 구글 15조원 들여  전역 거점화</td>\n",
       "    </tr>\n",
       "    <tr>\n",
       "      <th>2</th>\n",
       "      <td>2</td>\n",
       "      <td>이란 외무 긴장완화 해결책은 미국이 경제전쟁 멈추는 것</td>\n",
       "      <td>4</td>\n",
       "      <td>이란 외무 긴장완화 해결책은 미국이 경제전쟁 멈추는 것</td>\n",
       "    </tr>\n",
       "    <tr>\n",
       "      <th>3</th>\n",
       "      <td>3</td>\n",
       "      <td>NYT 클린턴 측근韓기업 특수관계 조명…공과 사 맞물려종합</td>\n",
       "      <td>4</td>\n",
       "      <td>nyt 클린턴 측근 기업 특수관계 조명 공과 사 맞물려종합</td>\n",
       "    </tr>\n",
       "    <tr>\n",
       "      <th>4</th>\n",
       "      <td>4</td>\n",
       "      <td>시진핑 트럼프에 중미 무역협상 조속 타결 희망</td>\n",
       "      <td>4</td>\n",
       "      <td>시진핑 트럼프에 중미 무역협상 조속 타결 희망</td>\n",
       "    </tr>\n",
       "  </tbody>\n",
       "</table>\n",
       "</div>"
      ],
      "text/plain": [
       "   index                             title  topic_idx  \\\n",
       "0      0          인천→핀란드 항공기 결항…휴가철 여행객 분통          4   \n",
       "1      1    실리콘밸리 넘어서겠다…구글 15조원 들여 美전역 거점화          4   \n",
       "2      2    이란 외무 긴장완화 해결책은 미국이 경제전쟁 멈추는 것          4   \n",
       "3      3  NYT 클린턴 측근韓기업 특수관계 조명…공과 사 맞물려종합          4   \n",
       "4      4         시진핑 트럼프에 중미 무역협상 조속 타결 희망          4   \n",
       "\n",
       "                         clean_text  \n",
       "0          인천 핀란드 항공기 결항 휴가철 여행객 분통  \n",
       "1    실리콘밸리 넘어서겠다 구글 15조원 들여  전역 거점화  \n",
       "2    이란 외무 긴장완화 해결책은 미국이 경제전쟁 멈추는 것  \n",
       "3  nyt 클린턴 측근 기업 특수관계 조명 공과 사 맞물려종합  \n",
       "4         시진핑 트럼프에 중미 무역협상 조속 타결 희망  "
      ]
     },
     "execution_count": 30,
     "metadata": {},
     "output_type": "execute_result"
    }
   ],
   "source": [
    "train.head()"
   ]
  },
  {
   "cell_type": "code",
   "execution_count": 34,
   "id": "d9f570d4-ef12-4413-9f61-c0d959122f02",
   "metadata": {},
   "outputs": [],
   "source": [
    "def delete_stop(sentence):\n",
    "    stopwords = ['의','가','이','은','들','는','좀','잘','걍','과','도','를','으로','자','에','와','한','하다']\n",
    "    for stopword in stopwords:\n",
    "        pattern = stopword\n",
    "        sentence = re.sub(pattern, '', sentence)\n",
    "    return sentence\n",
    "    "
   ]
  },
  {
   "cell_type": "code",
   "execution_count": 35,
   "id": "4fc179db-110c-442d-aa36-e290b54c5e03",
   "metadata": {},
   "outputs": [],
   "source": [
    "train['clean_text2'] = train['clean_text'].apply(delete_stop)"
   ]
  },
  {
   "cell_type": "code",
   "execution_count": 36,
   "id": "72bce0c4-9133-467e-81c7-f8b5c4103055",
   "metadata": {},
   "outputs": [
    {
     "data": {
      "text/html": [
       "<div>\n",
       "<style scoped>\n",
       "    .dataframe tbody tr th:only-of-type {\n",
       "        vertical-align: middle;\n",
       "    }\n",
       "\n",
       "    .dataframe tbody tr th {\n",
       "        vertical-align: top;\n",
       "    }\n",
       "\n",
       "    .dataframe thead th {\n",
       "        text-align: right;\n",
       "    }\n",
       "</style>\n",
       "<table border=\"1\" class=\"dataframe\">\n",
       "  <thead>\n",
       "    <tr style=\"text-align: right;\">\n",
       "      <th></th>\n",
       "      <th>index</th>\n",
       "      <th>title</th>\n",
       "      <th>topic_idx</th>\n",
       "      <th>clean_text</th>\n",
       "      <th>clean_text2</th>\n",
       "    </tr>\n",
       "  </thead>\n",
       "  <tbody>\n",
       "    <tr>\n",
       "      <th>0</th>\n",
       "      <td>0</td>\n",
       "      <td>인천→핀란드 항공기 결항…휴가철 여행객 분통</td>\n",
       "      <td>4</td>\n",
       "      <td>인천 핀란드 항공기 결항 휴가철 여행객 분통</td>\n",
       "      <td>인천 핀란드 항공기 결항 휴철 여행객 분통</td>\n",
       "    </tr>\n",
       "    <tr>\n",
       "      <th>1</th>\n",
       "      <td>1</td>\n",
       "      <td>실리콘밸리 넘어서겠다…구글 15조원 들여 美전역 거점화</td>\n",
       "      <td>4</td>\n",
       "      <td>실리콘밸리 넘어서겠다 구글 15조원 들여  전역 거점화</td>\n",
       "      <td>실리콘밸리 넘어서겠다 구글 15조원 여  전역 거점화</td>\n",
       "    </tr>\n",
       "    <tr>\n",
       "      <th>2</th>\n",
       "      <td>2</td>\n",
       "      <td>이란 외무 긴장완화 해결책은 미국이 경제전쟁 멈추는 것</td>\n",
       "      <td>4</td>\n",
       "      <td>이란 외무 긴장완화 해결책은 미국이 경제전쟁 멈추는 것</td>\n",
       "      <td>란 외무 긴장완화 해결책 미국 경제전쟁 멈추 것</td>\n",
       "    </tr>\n",
       "    <tr>\n",
       "      <th>3</th>\n",
       "      <td>3</td>\n",
       "      <td>NYT 클린턴 측근韓기업 특수관계 조명…공과 사 맞물려종합</td>\n",
       "      <td>4</td>\n",
       "      <td>nyt 클린턴 측근 기업 특수관계 조명 공과 사 맞물려종합</td>\n",
       "      <td>nyt 클린턴 측근 기업 특수관계 조명 공 사 맞물려종합</td>\n",
       "    </tr>\n",
       "    <tr>\n",
       "      <th>4</th>\n",
       "      <td>4</td>\n",
       "      <td>시진핑 트럼프에 중미 무역협상 조속 타결 희망</td>\n",
       "      <td>4</td>\n",
       "      <td>시진핑 트럼프에 중미 무역협상 조속 타결 희망</td>\n",
       "      <td>시진핑 트럼프 중미 무역협상 조속 타결 희망</td>\n",
       "    </tr>\n",
       "  </tbody>\n",
       "</table>\n",
       "</div>"
      ],
      "text/plain": [
       "   index                             title  topic_idx  \\\n",
       "0      0          인천→핀란드 항공기 결항…휴가철 여행객 분통          4   \n",
       "1      1    실리콘밸리 넘어서겠다…구글 15조원 들여 美전역 거점화          4   \n",
       "2      2    이란 외무 긴장완화 해결책은 미국이 경제전쟁 멈추는 것          4   \n",
       "3      3  NYT 클린턴 측근韓기업 특수관계 조명…공과 사 맞물려종합          4   \n",
       "4      4         시진핑 트럼프에 중미 무역협상 조속 타결 희망          4   \n",
       "\n",
       "                         clean_text                      clean_text2  \n",
       "0          인천 핀란드 항공기 결항 휴가철 여행객 분통          인천 핀란드 항공기 결항 휴철 여행객 분통  \n",
       "1    실리콘밸리 넘어서겠다 구글 15조원 들여  전역 거점화    실리콘밸리 넘어서겠다 구글 15조원 여  전역 거점화  \n",
       "2    이란 외무 긴장완화 해결책은 미국이 경제전쟁 멈추는 것       란 외무 긴장완화 해결책 미국 경제전쟁 멈추 것  \n",
       "3  nyt 클린턴 측근 기업 특수관계 조명 공과 사 맞물려종합  nyt 클린턴 측근 기업 특수관계 조명 공 사 맞물려종합  \n",
       "4         시진핑 트럼프에 중미 무역협상 조속 타결 희망         시진핑 트럼프 중미 무역협상 조속 타결 희망  "
      ]
     },
     "execution_count": 36,
     "metadata": {},
     "output_type": "execute_result"
    }
   ],
   "source": [
    "train.head()"
   ]
  },
  {
   "cell_type": "code",
   "execution_count": 37,
   "id": "e9ad1e78-894d-4cb6-85d9-a02b55ee7132",
   "metadata": {},
   "outputs": [
    {
     "data": {
      "application/vnd.jupyter.widget-view+json": {
       "model_id": "1f741cb879a84828aea340e4f3df0948",
       "version_major": 2,
       "version_minor": 0
      },
      "text/plain": [
       "Downloading:   0%|          | 0.00/996k [00:00<?, ?B/s]"
      ]
     },
     "metadata": {},
     "output_type": "display_data"
    },
    {
     "data": {
      "application/vnd.jupyter.widget-view+json": {
       "model_id": "be828078f252454fa69c8f8d3dd4f6db",
       "version_major": 2,
       "version_minor": 0
      },
      "text/plain": [
       "Downloading:   0%|          | 0.00/29.0 [00:00<?, ?B/s]"
      ]
     },
     "metadata": {},
     "output_type": "display_data"
    },
    {
     "data": {
      "application/vnd.jupyter.widget-view+json": {
       "model_id": "0f061d0ced0140b283ff299fbce80ee8",
       "version_major": 2,
       "version_minor": 0
      },
      "text/plain": [
       "Downloading:   0%|          | 0.00/1.96M [00:00<?, ?B/s]"
      ]
     },
     "metadata": {},
     "output_type": "display_data"
    }
   ],
   "source": [
    "tokenizer = BertTokenizer.from_pretrained('bert-base-multilingual-cased')"
   ]
  },
  {
   "cell_type": "code",
   "execution_count": 40,
   "id": "c6c76f75-7650-4554-8733-80e38a67925b",
   "metadata": {},
   "outputs": [],
   "source": [
    "train['token'] = train['clean_text'].apply(tokenizer.tokenize)"
   ]
  },
  {
   "cell_type": "code",
   "execution_count": 42,
   "id": "3247afe0-1626-4a72-9bf5-79bd9c4cb708",
   "metadata": {},
   "outputs": [],
   "source": [
    "train['length'] = train['clean_text'].apply(len)"
   ]
  },
  {
   "cell_type": "code",
   "execution_count": 45,
   "id": "4a802870-daf3-49c4-b1ba-6111626528a9",
   "metadata": {},
   "outputs": [
    {
     "data": {
      "text/plain": [
       "count    45654.000000\n",
       "mean        27.330552\n",
       "std          4.968172\n",
       "min          4.000000\n",
       "25%         25.000000\n",
       "50%         28.000000\n",
       "75%         31.000000\n",
       "max         44.000000\n",
       "Name: length, dtype: float64"
      ]
     },
     "execution_count": 45,
     "metadata": {},
     "output_type": "execute_result"
    }
   ],
   "source": [
    "train['length'].describe()"
   ]
  },
  {
   "cell_type": "code",
   "execution_count": 41,
   "id": "5fd97a18-2548-4adb-a7f9-f9895148936a",
   "metadata": {},
   "outputs": [
    {
     "data": {
      "text/html": [
       "<div>\n",
       "<style scoped>\n",
       "    .dataframe tbody tr th:only-of-type {\n",
       "        vertical-align: middle;\n",
       "    }\n",
       "\n",
       "    .dataframe tbody tr th {\n",
       "        vertical-align: top;\n",
       "    }\n",
       "\n",
       "    .dataframe thead th {\n",
       "        text-align: right;\n",
       "    }\n",
       "</style>\n",
       "<table border=\"1\" class=\"dataframe\">\n",
       "  <thead>\n",
       "    <tr style=\"text-align: right;\">\n",
       "      <th></th>\n",
       "      <th>index</th>\n",
       "      <th>title</th>\n",
       "      <th>topic_idx</th>\n",
       "      <th>clean_text</th>\n",
       "      <th>clean_text2</th>\n",
       "      <th>token</th>\n",
       "    </tr>\n",
       "  </thead>\n",
       "  <tbody>\n",
       "    <tr>\n",
       "      <th>0</th>\n",
       "      <td>0</td>\n",
       "      <td>인천→핀란드 항공기 결항…휴가철 여행객 분통</td>\n",
       "      <td>4</td>\n",
       "      <td>인천 핀란드 항공기 결항 휴가철 여행객 분통</td>\n",
       "      <td>인천 핀란드 항공기 결항 휴철 여행객 분통</td>\n",
       "      <td>[인, ##천, 핀, ##란드, 항, ##공, ##기, 결, ##항, 휴, ##가,...</td>\n",
       "    </tr>\n",
       "    <tr>\n",
       "      <th>1</th>\n",
       "      <td>1</td>\n",
       "      <td>실리콘밸리 넘어서겠다…구글 15조원 들여 美전역 거점화</td>\n",
       "      <td>4</td>\n",
       "      <td>실리콘밸리 넘어서겠다 구글 15조원 들여  전역 거점화</td>\n",
       "      <td>실리콘밸리 넘어서겠다 구글 15조원 여  전역 거점화</td>\n",
       "      <td>[실, ##리, ##콘, ##밸, ##리, 넘, ##어, ##서, ##겠, ##다,...</td>\n",
       "    </tr>\n",
       "    <tr>\n",
       "      <th>2</th>\n",
       "      <td>2</td>\n",
       "      <td>이란 외무 긴장완화 해결책은 미국이 경제전쟁 멈추는 것</td>\n",
       "      <td>4</td>\n",
       "      <td>이란 외무 긴장완화 해결책은 미국이 경제전쟁 멈추는 것</td>\n",
       "      <td>란 외무 긴장완화 해결책 미국 경제전쟁 멈추 것</td>\n",
       "      <td>[이란, 외, ##무, 긴, ##장, ##완, ##화, 해, ##결, ##책, ##...</td>\n",
       "    </tr>\n",
       "    <tr>\n",
       "      <th>3</th>\n",
       "      <td>3</td>\n",
       "      <td>NYT 클린턴 측근韓기업 특수관계 조명…공과 사 맞물려종합</td>\n",
       "      <td>4</td>\n",
       "      <td>nyt 클린턴 측근 기업 특수관계 조명 공과 사 맞물려종합</td>\n",
       "      <td>nyt 클린턴 측근 기업 특수관계 조명 공 사 맞물려종합</td>\n",
       "      <td>[nyt, 클, ##린, ##턴, 측, ##근, 기, ##업, 특, ##수, ##관...</td>\n",
       "    </tr>\n",
       "    <tr>\n",
       "      <th>4</th>\n",
       "      <td>4</td>\n",
       "      <td>시진핑 트럼프에 중미 무역협상 조속 타결 희망</td>\n",
       "      <td>4</td>\n",
       "      <td>시진핑 트럼프에 중미 무역협상 조속 타결 희망</td>\n",
       "      <td>시진핑 트럼프 중미 무역협상 조속 타결 희망</td>\n",
       "      <td>[시, ##진, ##핑, 트, ##럼, ##프, ##에, 중, ##미, 무, ##역...</td>\n",
       "    </tr>\n",
       "  </tbody>\n",
       "</table>\n",
       "</div>"
      ],
      "text/plain": [
       "   index                             title  topic_idx  \\\n",
       "0      0          인천→핀란드 항공기 결항…휴가철 여행객 분통          4   \n",
       "1      1    실리콘밸리 넘어서겠다…구글 15조원 들여 美전역 거점화          4   \n",
       "2      2    이란 외무 긴장완화 해결책은 미국이 경제전쟁 멈추는 것          4   \n",
       "3      3  NYT 클린턴 측근韓기업 특수관계 조명…공과 사 맞물려종합          4   \n",
       "4      4         시진핑 트럼프에 중미 무역협상 조속 타결 희망          4   \n",
       "\n",
       "                         clean_text                      clean_text2  \\\n",
       "0          인천 핀란드 항공기 결항 휴가철 여행객 분통          인천 핀란드 항공기 결항 휴철 여행객 분통   \n",
       "1    실리콘밸리 넘어서겠다 구글 15조원 들여  전역 거점화    실리콘밸리 넘어서겠다 구글 15조원 여  전역 거점화   \n",
       "2    이란 외무 긴장완화 해결책은 미국이 경제전쟁 멈추는 것       란 외무 긴장완화 해결책 미국 경제전쟁 멈추 것   \n",
       "3  nyt 클린턴 측근 기업 특수관계 조명 공과 사 맞물려종합  nyt 클린턴 측근 기업 특수관계 조명 공 사 맞물려종합   \n",
       "4         시진핑 트럼프에 중미 무역협상 조속 타결 희망         시진핑 트럼프 중미 무역협상 조속 타결 희망   \n",
       "\n",
       "                                               token  \n",
       "0  [인, ##천, 핀, ##란드, 항, ##공, ##기, 결, ##항, 휴, ##가,...  \n",
       "1  [실, ##리, ##콘, ##밸, ##리, 넘, ##어, ##서, ##겠, ##다,...  \n",
       "2  [이란, 외, ##무, 긴, ##장, ##완, ##화, 해, ##결, ##책, ##...  \n",
       "3  [nyt, 클, ##린, ##턴, 측, ##근, 기, ##업, 특, ##수, ##관...  \n",
       "4  [시, ##진, ##핑, 트, ##럼, ##프, ##에, 중, ##미, 무, ##역...  "
      ]
     },
     "execution_count": 41,
     "metadata": {},
     "output_type": "execute_result"
    }
   ],
   "source": [
    "train.head()"
   ]
  },
  {
   "cell_type": "code",
   "execution_count": 48,
   "id": "669ef14d-39f4-4281-8411-18590d3e65cb",
   "metadata": {},
   "outputs": [],
   "source": [
    "class Bertnet(nn.Module):\n",
    "    def __init__(self):\n",
    "        super().__init__()\n",
    "        self.bert_model = BertModel.from_pretrained('bert-base-multilingual-cased')\n",
    "        self.tokenizer = BertTokenizer.from_pretrained('bert-base-multilingual-cased')\n",
    "        self.max_len = 32\n",
    "        self.fc = nn.Linear(self.bert_model.config.hidden_size, 512)\n",
    "        self.bn = nn.BatchNorm1d(512)\n",
    "        self._init_params()\n",
    "        \n",
    "    def _init_params(self):\n",
    "        nn.init.xavier_normal_(self.fc.weight)\n",
    "        nn.init.constant_(self.fc.bias, 0)\n",
    "        nn.init.constant_(self.bn.weight, 1)\n",
    "        nn.init.constant_(self.bn.bias, 0)\n",
    "        \n",
    "    def forward(self, x):\n",
    "        tokenizer_output = self.tokenizer(x, truncation=True, padding=True, max_length=self.max_len)\n",
    "        input_ids = torch.LongTensor(tokenizer_output['input_ids']).to('cuda')\n",
    "        token_type_ids = torch.LongTensor(tokenizer_output['token_type_ids']).to('cuda')\n",
    "        attention_mask = torch.LongTensor(tokenizer_output['attention_mask']).to('cuda')\n",
    "        x = self.bert_model(input_ids=input_ids, token_type_ids=token_type_ids, attention_mask=attention_mask)\n",
    "        x = torch.sum(x.last_hidden_state * attention_mask.unsqueeze(-1), dim=1) / attention_mask.sum(dim=1, keepdims=True)\n",
    "        x = self.fc(x)\n",
    "        x = self.bn(x)\n",
    "        return x\n",
    "        \n",
    "    "
   ]
  },
  {
   "cell_type": "code",
   "execution_count": 49,
   "id": "3a693052-9146-44b5-b201-5b48688a25d3",
   "metadata": {},
   "outputs": [],
   "source": [
    "from sklearn.model_selection import KFold"
   ]
  },
  {
   "cell_type": "code",
   "execution_count": 50,
   "id": "71d04119-8f52-48b9-bf6b-78ca63b167f3",
   "metadata": {},
   "outputs": [
    {
     "data": {
      "text/plain": [
       "Index(['index', 'title', 'topic_idx', 'clean_text', 'clean_text2', 'token',\n",
       "       'length'],\n",
       "      dtype='object')"
      ]
     },
     "execution_count": 50,
     "metadata": {},
     "output_type": "execute_result"
    }
   ],
   "source": [
    "train.columns"
   ]
  },
  {
   "cell_type": "code",
   "execution_count": 52,
   "id": "473d6b26-eb18-434e-9224-9a8d9ce5592c",
   "metadata": {},
   "outputs": [],
   "source": [
    "class NewsDataset(Dataset):\n",
    "\n",
    "    def __init__(self, df):\n",
    "        self.df = df\n",
    "\n",
    "    def __getitem__(self, index):\n",
    "        row = self.df.iloc[index]\n",
    "\n",
    "        if 'topic_idx' in row.keys():\n",
    "            target = torch.tensor(row['topic_idx'], dtype=torch.long)\n",
    "            return row['title'], target\n",
    "        else:\n",
    "            return row['title']\n",
    "\n",
    "    def __len__(self):\n",
    "        return len(self.df)"
   ]
  },
  {
   "cell_type": "code",
   "execution_count": 79,
   "id": "9611381b-642f-4e58-874f-b5b1e03a3251",
   "metadata": {},
   "outputs": [],
   "source": [
    "def split_dataset(df):\n",
    "    split_df = {}\n",
    "    kfold = KFold(n_splits=5)\n",
    "    for fold, (train_idx, valid_idx) in enumerate(kfold.split(df)):\n",
    "        train = df.iloc[train_idx]\n",
    "        valid = df.iloc[valid_idx]\n",
    "        train = train.reset_index()\n",
    "        valid = valid.reset_index()\n",
    "        split_df[fold] = [train, valid]\n",
    "    return split_df"
   ]
  },
  {
   "cell_type": "code",
   "execution_count": 80,
   "id": "34a99386-1a8c-4ac4-8265-1406aa227f07",
   "metadata": {},
   "outputs": [],
   "source": [
    "data_dict = split_dataset(train)"
   ]
  },
  {
   "cell_type": "code",
   "execution_count": 101,
   "id": "4f801b57-056f-4ee4-a5c2-94c4e104f22a",
   "metadata": {},
   "outputs": [],
   "source": [
    "for fold in range(5):\n",
    "    train, valid = data_dict[fold]\n",
    "    trainset = NewsDataset(train)\n",
    "    validset = NewsDataset(valid)\n",
    "    train_X, train_y = trainset[:][0], trainset[:][1]\n",
    "    valid_X, valid_y = validset[:][0], validset[:][1]\n",
    "#     train_X, train_y = train['clean_text'], train['topic_idx']\n",
    "#     valid_X, valid_y = valid['clean_text'], valid['clean_text']"
   ]
  },
  {
   "cell_type": "code",
   "execution_count": null,
   "id": "9173e7d5-2d07-4d84-be21-bea08b7ba156",
   "metadata": {},
   "outputs": [],
   "source": []
  }
 ],
 "metadata": {
  "kernelspec": {
   "display_name": "Python 3",
   "language": "python",
   "name": "python3"
  },
  "language_info": {
   "codemirror_mode": {
    "name": "ipython",
    "version": 3
   },
   "file_extension": ".py",
   "mimetype": "text/x-python",
   "name": "python",
   "nbconvert_exporter": "python",
   "pygments_lexer": "ipython3",
   "version": "3.8.8"
  }
 },
 "nbformat": 4,
 "nbformat_minor": 5
}
