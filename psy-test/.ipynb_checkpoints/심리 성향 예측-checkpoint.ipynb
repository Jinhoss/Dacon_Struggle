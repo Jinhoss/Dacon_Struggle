{
 "cells": [
  {
   "cell_type": "markdown",
   "metadata": {},
   "source": [
    "# **[Dacon]  심리 성향 예측 AI 경진대회**"
   ]
  },
  {
   "cell_type": "markdown",
   "metadata": {},
   "source": [
    "## 1. 라이브러리 & 데이터로드"
   ]
  },
  {
   "cell_type": "code",
   "execution_count": 1,
   "metadata": {},
   "outputs": [
    {
     "ename": "ModuleNotFoundError",
     "evalue": "No module named 'pycaret'",
     "output_type": "error",
     "traceback": [
      "\u001b[1;31m---------------------------------------------------------------------------\u001b[0m",
      "\u001b[1;31mModuleNotFoundError\u001b[0m                       Traceback (most recent call last)",
      "\u001b[1;32m<ipython-input-1-7fee9699f1b2>\u001b[0m in \u001b[0;36m<module>\u001b[1;34m\u001b[0m\n\u001b[0;32m      4\u001b[0m \u001b[1;32mimport\u001b[0m \u001b[0mseaborn\u001b[0m \u001b[1;32mas\u001b[0m \u001b[0msns\u001b[0m\u001b[1;33m\u001b[0m\u001b[1;33m\u001b[0m\u001b[0m\n\u001b[0;32m      5\u001b[0m \u001b[1;32mimport\u001b[0m \u001b[0mnumpy\u001b[0m \u001b[1;32mas\u001b[0m \u001b[0mnp\u001b[0m\u001b[1;33m\u001b[0m\u001b[1;33m\u001b[0m\u001b[0m\n\u001b[1;32m----> 6\u001b[1;33m \u001b[1;32mfrom\u001b[0m \u001b[0mpycaret\u001b[0m\u001b[1;33m.\u001b[0m\u001b[0mclassification\u001b[0m \u001b[1;32mimport\u001b[0m \u001b[1;33m*\u001b[0m\u001b[1;33m\u001b[0m\u001b[1;33m\u001b[0m\u001b[0m\n\u001b[0m",
      "\u001b[1;31mModuleNotFoundError\u001b[0m: No module named 'pycaret'"
     ]
    }
   ],
   "source": [
    "#필요 라이브러리\n",
    "import pandas as pd\n",
    "import matplotlib.pyplot as plt\n",
    "import seaborn as sns\n",
    "import numpy as np\n",
    "from pycaret.classification import *"
   ]
  },
  {
   "cell_type": "code",
   "execution_count": 2,
   "metadata": {},
   "outputs": [],
   "source": [
    "#파일 호출\n",
    "train=pd.read_csv('train.csv')\n",
    "test=pd.read_csv('test_x.csv')\n",
    "\n",
    "\n",
    "submission=pd.read_csv('sample_submission.csv')"
   ]
  },
  {
   "cell_type": "markdown",
   "metadata": {},
   "source": [
    "## 2. EDA"
   ]
  },
  {
   "cell_type": "code",
   "execution_count": 70,
   "metadata": {},
   "outputs": [
    {
     "name": "stdout",
     "output_type": "stream",
     "text": [
      "<class 'pandas.core.frame.DataFrame'>\n",
      "RangeIndex: 45532 entries, 0 to 45531\n",
      "Data columns (total 28 columns):\n",
      " #   Column      Non-Null Count  Dtype  \n",
      "---  ------      --------------  -----  \n",
      " 0   age_group   45532 non-null  object \n",
      " 1   education   45532 non-null  int64  \n",
      " 2   engnat      45532 non-null  int64  \n",
      " 3   familysize  45532 non-null  int64  \n",
      " 4   gender      45532 non-null  object \n",
      " 5   married     45532 non-null  int64  \n",
      " 6   race        45532 non-null  object \n",
      " 7   religion    45532 non-null  object \n",
      " 8   urban       45532 non-null  int64  \n",
      " 9   voted       45532 non-null  int64  \n",
      " 10  wf_01       45532 non-null  int64  \n",
      " 11  wf_02       45532 non-null  int64  \n",
      " 12  wf_03       45532 non-null  int64  \n",
      " 13  wr_02       45532 non-null  int64  \n",
      " 14  wr_04       45532 non-null  int64  \n",
      " 15  wr_05       45532 non-null  int64  \n",
      " 16  wr_07       45532 non-null  int64  \n",
      " 17  wr_08       45532 non-null  int64  \n",
      " 18  wr_10       45532 non-null  int64  \n",
      " 19  wr_12       45532 non-null  int64  \n",
      " 20  wr_13       45532 non-null  int64  \n",
      " 21  Score       45532 non-null  float64\n",
      " 22  Ans_time    45532 non-null  float64\n",
      " 23  Extro       45532 non-null  float64\n",
      " 24  Agree       45532 non-null  float64\n",
      " 25  Cons        45532 non-null  float64\n",
      " 26  Emo         45532 non-null  float64\n",
      " 27  Open        45532 non-null  float64\n",
      "dtypes: float64(7), int64(17), object(4)\n",
      "memory usage: 9.7+ MB\n"
     ]
    }
   ],
   "source": [
    "train.info()"
   ]
  },
  {
   "cell_type": "code",
   "execution_count": 71,
   "metadata": {},
   "outputs": [
    {
     "name": "stdout",
     "output_type": "stream",
     "text": [
      "<class 'pandas.core.frame.DataFrame'>\n",
      "RangeIndex: 11383 entries, 0 to 11382\n",
      "Data columns (total 27 columns):\n",
      " #   Column      Non-Null Count  Dtype  \n",
      "---  ------      --------------  -----  \n",
      " 0   age_group   11383 non-null  object \n",
      " 1   education   11383 non-null  int64  \n",
      " 2   engnat      11383 non-null  int64  \n",
      " 3   familysize  11383 non-null  int64  \n",
      " 4   gender      11383 non-null  object \n",
      " 5   married     11383 non-null  int64  \n",
      " 6   race        11383 non-null  object \n",
      " 7   religion    11383 non-null  object \n",
      " 8   urban       11383 non-null  int64  \n",
      " 9   wf_01       11383 non-null  int64  \n",
      " 10  wf_02       11383 non-null  int64  \n",
      " 11  wf_03       11383 non-null  int64  \n",
      " 12  wr_02       11383 non-null  int64  \n",
      " 13  wr_04       11383 non-null  int64  \n",
      " 14  wr_05       11383 non-null  int64  \n",
      " 15  wr_07       11383 non-null  int64  \n",
      " 16  wr_08       11383 non-null  int64  \n",
      " 17  wr_10       11383 non-null  int64  \n",
      " 18  wr_12       11383 non-null  int64  \n",
      " 19  wr_13       11383 non-null  int64  \n",
      " 20  Score       11383 non-null  float64\n",
      " 21  Ans_time    11383 non-null  float64\n",
      " 22  Extro       11383 non-null  float64\n",
      " 23  Agree       11383 non-null  float64\n",
      " 24  Cons        11383 non-null  float64\n",
      " 25  Emo         11383 non-null  float64\n",
      " 26  Open        11383 non-null  float64\n",
      "dtypes: float64(7), int64(16), object(4)\n",
      "memory usage: 2.3+ MB\n"
     ]
    }
   ],
   "source": [
    "test.info()"
   ]
  },
  {
   "cell_type": "code",
   "execution_count": 3,
   "metadata": {},
   "outputs": [],
   "source": [
    "#답변과 응답시간 컬럼 정리\n",
    "cols=['QaA','QbA','QcA','QdA','QeA','QfA','QgA','QhA','QiA','QjA','QkA','QlA','QmA','QnA','QoA','QpA','QqA','QrA','QsA','QtA']\n",
    "time_cols=['QaE','QbE','QcE','QdE','QeE','QfE','QgE','QhE','QiE','QjE','QkE','QlE','QmE','QnE','QoE','QpE','QqE','QrE','QsE','QtE']"
   ]
  },
  {
   "cell_type": "code",
   "execution_count": 6,
   "metadata": {},
   "outputs": [
    {
     "data": {
      "text/plain": [
       "<matplotlib.axes._subplots.AxesSubplot at 0x16d7b084be0>"
      ]
     },
     "execution_count": 6,
     "metadata": {},
     "output_type": "execute_result"
    },
    {
     "data": {
      "image/png": "[encoded data removed]",
      "text/plain": [
       "<Figure size 432x288 with 2 Axes>"
      ]
     },
     "metadata": {
      "needs_background": "light"
     },
     "output_type": "display_data"
    }
   ],
   "source": [
    "#각 답변의 상관관계 분석\n",
    "corr=train[cols].corr(method='spearman')\n",
    "sns.heatmap(corr,cmap='coolwarm',square=True,center=0)"
   ]
  },
  {
   "cell_type": "code",
   "execution_count": 69,
   "metadata": {},
   "outputs": [
    {
     "data": {
      "text/plain": [
       "<matplotlib.axes._subplots.AxesSubplot at 0x16d7a05ed90>"
      ]
     },
     "execution_count": 69,
     "metadata": {},
     "output_type": "execute_result"
    },
    {
     "data": {
      "image/png": "[encoded data removed]",
      "text/plain": [
       "<Figure size 576x432 with 1 Axes>"
      ]
     },
     "metadata": {
      "needs_background": "light"
     },
     "output_type": "display_data"
    }
   ],
   "source": [
    "plt.figure(figsize = (8,6))\n",
    "sns.countplot(data = train, x = 'age_group', hue = train['voted'])"
   ]
  },
  {
   "cell_type": "code",
   "execution_count": 72,
   "metadata": {},
   "outputs": [
    {
     "data": {
      "text/plain": [
       "<matplotlib.axes._subplots.AxesSubplot at 0x16d026d0eb0>"
      ]
     },
     "execution_count": 72,
     "metadata": {},
     "output_type": "execute_result"
    },
    {
     "data": {
      "image/png": "[encoded data removed]",
      "text/plain": [
       "<Figure size 576x432 with 1 Axes>"
      ]
     },
     "metadata": {
      "needs_background": "light"
     },
     "output_type": "display_data"
    }
   ],
   "source": [
    "plt.figure(figsize = (8,6))\n",
    "sns.countplot(data = train, x = 'married', hue = train['voted'])"
   ]
  },
  {
   "cell_type": "code",
   "execution_count": 73,
   "metadata": {},
   "outputs": [
    {
     "data": {
      "text/plain": [
       "<matplotlib.axes._subplots.AxesSubplot at 0x16d0c64baf0>"
      ]
     },
     "execution_count": 73,
     "metadata": {},
     "output_type": "execute_result"
    },
    {
     "data": {
      "image/png": "[encoded data removed]",
      "text/plain": [
       "<Figure size 576x432 with 1 Axes>"
      ]
     },
     "metadata": {
      "needs_background": "light"
     },
     "output_type": "display_data"
    }
   ],
   "source": [
    "plt.figure(figsize = (8,6))\n",
    "sns.countplot(data = train, x = 'gender', hue = train['voted'])"
   ]
  },
  {
   "cell_type": "code",
   "execution_count": 74,
   "metadata": {},
   "outputs": [
    {
     "data": {
      "text/plain": [
       "<matplotlib.axes._subplots.AxesSubplot at 0x16d0c661be0>"
      ]
     },
     "execution_count": 74,
     "metadata": {},
     "output_type": "execute_result"
    },
    {
     "data": {
      "image/png": "[encoded data removed]",
      "text/plain": [
       "<Figure size 576x432 with 1 Axes>"
      ]
     },
     "metadata": {
      "needs_background": "light"
     },
     "output_type": "display_data"
    }
   ],
   "source": [
    "plt.figure(figsize = (8,6))\n",
    "sns.countplot(data = train, x = 'race', hue = train['voted'])"
   ]
  },
  {
   "cell_type": "code",
   "execution_count": 75,
   "metadata": {},
   "outputs": [
    {
     "data": {
      "text/plain": [
       "<matplotlib.axes._subplots.AxesSubplot at 0x16d0ba09910>"
      ]
     },
     "execution_count": 75,
     "metadata": {},
     "output_type": "execute_result"
    },
    {
     "data": {
      "image/png": "[encoded data removed]",
      "text/plain": [
       "<Figure size 576x432 with 1 Axes>"
      ]
     },
     "metadata": {
      "needs_background": "light"
     },
     "output_type": "display_data"
    }
   ],
   "source": [
    "plt.figure(figsize = (8,6))\n",
    "sns.countplot(data = train, x = 'religion', hue = train['voted'])"
   ]
  },
  {
   "cell_type": "code",
   "execution_count": 76,
   "metadata": {},
   "outputs": [
    {
     "data": {
      "text/plain": [
       "<matplotlib.axes._subplots.AxesSubplot at 0x16d0c31c220>"
      ]
     },
     "execution_count": 76,
     "metadata": {},
     "output_type": "execute_result"
    },
    {
     "data": {
      "image/png": "[encoded data removed]",
      "text/plain": [
       "<Figure size 576x432 with 1 Axes>"
      ]
     },
     "metadata": {
      "needs_background": "light"
     },
     "output_type": "display_data"
    }
   ],
   "source": [
    "plt.figure(figsize = (8,6))\n",
    "sns.countplot(data = train, x = 'urban', hue = train['voted'])"
   ]
  },
  {
   "cell_type": "code",
   "execution_count": 77,
   "metadata": {},
   "outputs": [
    {
     "data": {
      "text/plain": [
       "<matplotlib.axes._subplots.AxesSubplot at 0x16d0b90b460>"
      ]
     },
     "execution_count": 77,
     "metadata": {},
     "output_type": "execute_result"
    },
    {
     "data": {
      "image/png": "[encoded data removed]",
      "text/plain": [
       "<Figure size 576x432 with 1 Axes>"
      ]
     },
     "metadata": {
      "needs_background": "light"
     },
     "output_type": "display_data"
    }
   ],
   "source": [
    "plt.figure(figsize = (8,6))\n",
    "sns.countplot(data = train, x = 'familysize', hue = train['voted'])"
   ]
  },
  {
   "cell_type": "markdown",
   "metadata": {},
   "source": [
    "## 3. Feature Engineering"
   ]
  },
  {
   "cell_type": "markdown",
   "metadata": {},
   "source": [
    "마키아벨리즘 심리성향 테스트 점수 계산법\n",
    "https://dacon.io/competitions/official/235647/talkboard/401557?page=2&dtype=recent&ptype=pub"
   ]
  },
  {
   "cell_type": "code",
   "execution_count": 7,
   "metadata": {},
   "outputs": [],
   "source": [
    "#음의 상관관계를 띄는 항목 정리 1\n",
    "reverse_col=['QeA','QfA','QkA','QqA','QrA']\n",
    "for x in reverse_col:\n",
    "    train[x]=6-train[x]\n",
    "    test[x]=6-test[x]"
   ]
  },
  {
   "cell_type": "code",
   "execution_count": 8,
   "metadata": {},
   "outputs": [
    {
     "data": {
      "text/plain": [
       "<matplotlib.axes._subplots.AxesSubplot at 0x16d021715e0>"
      ]
     },
     "execution_count": 8,
     "metadata": {},
     "output_type": "execute_result"
    },
    {
     "data": {
      "image/png": "[encoded data removed]",
      "text/plain": [
       "<Figure size 432x288 with 2 Axes>"
      ]
     },
     "metadata": {
      "needs_background": "light"
     },
     "output_type": "display_data"
    }
   ],
   "source": [
    "corr=train[cols].corr(method='spearman')\n",
    "sns.heatmap(corr,cmap='coolwarm',square=True,center=0)"
   ]
  },
  {
   "cell_type": "code",
   "execution_count": 9,
   "metadata": {},
   "outputs": [],
   "source": [
    "#secret 항목에 대해서도 같은 처리\n",
    "secret_col=['QaA','QdA','QgA','QiA','QnA']\n",
    "for x in secret_col:\n",
    "    train[x]=6-train[x]\n",
    "    test[x]=6-test[x]"
   ]
  },
  {
   "cell_type": "code",
   "execution_count": 10,
   "metadata": {},
   "outputs": [
    {
     "data": {
      "text/plain": [
       "<matplotlib.axes._subplots.AxesSubplot at 0x16d0225b220>"
      ]
     },
     "execution_count": 10,
     "metadata": {},
     "output_type": "execute_result"
    },
    {
     "data": {
      "image/png": "[encoded data removed]",
      "text/plain": [
       "<Figure size 432x288 with 2 Axes>"
      ]
     },
     "metadata": {
      "needs_background": "light"
     },
     "output_type": "display_data"
    }
   ],
   "source": [
    "#정리된 항목 확인\n",
    "corr=train[cols].corr(method='spearman')\n",
    "sns.heatmap(corr,cmap='coolwarm',square=True,center=0)"
   ]
  },
  {
   "cell_type": "code",
   "execution_count": 11,
   "metadata": {},
   "outputs": [],
   "source": [
    "#마키아벨리즘 테스트 스코어\n",
    "train['Score']=train[cols].mean(axis=1)\n",
    "test['Score']=test[cols].mean(axis=1)"
   ]
  },
  {
   "cell_type": "code",
   "execution_count": 12,
   "metadata": {},
   "outputs": [],
   "source": [
    "#마키아벨리즘 테스트 응답시간\n",
    "train['Ans_time']=train[time_cols].median(axis=1)\n",
    "test['Ans_time']=test[time_cols].median(axis=1)"
   ]
  },
  {
   "cell_type": "code",
   "execution_count": null,
   "metadata": {},
   "outputs": [],
   "source": [
    "#응답시간 분포 확인\n",
    "plt.figure(figsize=(12,8))\n",
    "sns.violinplot(x='voted', y='Ans_time', data=train)\n",
    "plt.xlabel('Voted', fontsize=12)\n",
    "plt.ylabel('Mean of answer time', fontsize=12)\n",
    "plt.title(\"Mean of Answer time by voted\", fontsize=15)\n",
    "plt.show()"
   ]
  },
  {
   "cell_type": "code",
   "execution_count": 44,
   "metadata": {},
   "outputs": [
    {
     "name": "stderr",
     "output_type": "stream",
     "text": [
      "C:\\ProgramData\\Anaconda3\\lib\\site-packages\\pandas\\core\\indexing.py:670: SettingWithCopyWarning: \n",
      "A value is trying to be set on a copy of a slice from a DataFrame\n",
      "\n",
      "See the caveats in the documentation: https://pandas.pydata.org/pandas-docs/stable/user_guide/indexing.html#returning-a-view-versus-a-copy\n",
      "  iloc._setitem_with_indexer(indexer, value)\n",
      "C:\\ProgramData\\Anaconda3\\lib\\site-packages\\pandas\\core\\indexing.py:670: SettingWithCopyWarning: \n",
      "A value is trying to be set on a copy of a slice from a DataFrame\n",
      "\n",
      "See the caveats in the documentation: https://pandas.pydata.org/pandas-docs/stable/user_guide/indexing.html#returning-a-view-versus-a-copy\n",
      "  iloc._setitem_with_indexer(indexer, value)\n"
     ]
    }
   ],
   "source": [
    "#응답시간 상한 조정\n",
    "train['Ans_time'].loc[train['Ans_time']>2700] = 2700\n",
    "test['Ans_time'].loc[test['Ans_time']>2700] = 2700"
   ]
  },
  {
   "cell_type": "code",
   "execution_count": 19,
   "metadata": {},
   "outputs": [],
   "source": [
    "train.drop(cols,axis=1,inplace=True)\n",
    "test.drop(cols,axis=1,inplace=True)"
   ]
  },
  {
   "cell_type": "code",
   "execution_count": 20,
   "metadata": {},
   "outputs": [],
   "source": [
    "train.drop(time_cols,axis=1,inplace=True)\n",
    "\n",
    "test.drop(time_cols,axis=1,inplace=True)"
   ]
  },
  {
   "cell_type": "code",
   "execution_count": 21,
   "metadata": {},
   "outputs": [
    {
     "data": {
      "text/plain": [
       "2    16835\n",
       "3    15227\n",
       "4     7854\n",
       "1     5088\n",
       "0      528\n",
       "Name: education, dtype: int64"
      ]
     },
     "execution_count": 21,
     "metadata": {},
     "output_type": "execute_result"
    }
   ],
   "source": [
    "# education 결측치 확인\n",
    "train['education'].value_counts()"
   ]
  },
  {
   "cell_type": "code",
   "execution_count": 22,
   "metadata": {},
   "outputs": [],
   "source": [
    "#TIPI 컬럼 정리\n",
    "tipi=['tp01','tp02','tp03','tp04','tp05','tp06','tp07','tp08','tp09','tp10']"
   ]
  },
  {
   "cell_type": "code",
   "execution_count": 23,
   "metadata": {},
   "outputs": [
    {
     "data": {
      "text/plain": [
       "<matplotlib.axes._subplots.AxesSubplot at 0x16d02b1bfd0>"
      ]
     },
     "execution_count": 23,
     "metadata": {},
     "output_type": "execute_result"
    },
    {
     "data": {
      "image/png": "[encoded data removed]",
      "text/plain": [
       "<Figure size 432x288 with 2 Axes>"
      ]
     },
     "metadata": {
      "needs_background": "light"
     },
     "output_type": "display_data"
    }
   ],
   "source": [
    "#각 답변의 상관관계 분석\n",
    "corr_tipi=train[tipi].corr(method='spearman')\n",
    "sns.heatmap(corr_tipi,cmap='coolwarm',square=True,center=0)"
   ]
  },
  {
   "cell_type": "markdown",
   "metadata": {},
   "source": [
    "TIPI 계산법 https://dacon.io/competitions/official/235647/talkboard/401589?page=2&dtype=recent&ptype=pub"
   ]
  },
  {
   "cell_type": "code",
   "execution_count": 24,
   "metadata": {},
   "outputs": [
    {
     "data": {
      "text/html": [
       "<div>\n",
       "<style scoped>\n",
       "    .dataframe tbody tr th:only-of-type {\n",
       "        vertical-align: middle;\n",
       "    }\n",
       "\n",
       "    .dataframe tbody tr th {\n",
       "        vertical-align: top;\n",
       "    }\n",
       "\n",
       "    .dataframe thead th {\n",
       "        text-align: right;\n",
       "    }\n",
       "</style>\n",
       "<table border=\"1\" class=\"dataframe\">\n",
       "  <thead>\n",
       "    <tr style=\"text-align: right;\">\n",
       "      <th></th>\n",
       "      <th>tp01</th>\n",
       "      <th>tp02</th>\n",
       "      <th>tp03</th>\n",
       "      <th>tp04</th>\n",
       "      <th>tp05</th>\n",
       "      <th>tp06</th>\n",
       "      <th>tp07</th>\n",
       "      <th>tp08</th>\n",
       "      <th>tp09</th>\n",
       "      <th>tp10</th>\n",
       "    </tr>\n",
       "  </thead>\n",
       "  <tbody>\n",
       "    <tr>\n",
       "      <th>0</th>\n",
       "      <td>2</td>\n",
       "      <td>2</td>\n",
       "      <td>2</td>\n",
       "      <td>1</td>\n",
       "      <td>2</td>\n",
       "      <td>1</td>\n",
       "      <td>7</td>\n",
       "      <td>4</td>\n",
       "      <td>4</td>\n",
       "      <td>3</td>\n",
       "    </tr>\n",
       "    <tr>\n",
       "      <th>1</th>\n",
       "      <td>1</td>\n",
       "      <td>1</td>\n",
       "      <td>0</td>\n",
       "      <td>0</td>\n",
       "      <td>1</td>\n",
       "      <td>2</td>\n",
       "      <td>3</td>\n",
       "      <td>4</td>\n",
       "      <td>0</td>\n",
       "      <td>4</td>\n",
       "    </tr>\n",
       "    <tr>\n",
       "      <th>2</th>\n",
       "      <td>2</td>\n",
       "      <td>3</td>\n",
       "      <td>1</td>\n",
       "      <td>5</td>\n",
       "      <td>3</td>\n",
       "      <td>4</td>\n",
       "      <td>2</td>\n",
       "      <td>6</td>\n",
       "      <td>1</td>\n",
       "      <td>3</td>\n",
       "    </tr>\n",
       "    <tr>\n",
       "      <th>3</th>\n",
       "      <td>2</td>\n",
       "      <td>4</td>\n",
       "      <td>1</td>\n",
       "      <td>1</td>\n",
       "      <td>1</td>\n",
       "      <td>3</td>\n",
       "      <td>1</td>\n",
       "      <td>3</td>\n",
       "      <td>1</td>\n",
       "      <td>3</td>\n",
       "    </tr>\n",
       "    <tr>\n",
       "      <th>4</th>\n",
       "      <td>1</td>\n",
       "      <td>1</td>\n",
       "      <td>1</td>\n",
       "      <td>6</td>\n",
       "      <td>0</td>\n",
       "      <td>2</td>\n",
       "      <td>0</td>\n",
       "      <td>6</td>\n",
       "      <td>2</td>\n",
       "      <td>6</td>\n",
       "    </tr>\n",
       "    <tr>\n",
       "      <th>...</th>\n",
       "      <td>...</td>\n",
       "      <td>...</td>\n",
       "      <td>...</td>\n",
       "      <td>...</td>\n",
       "      <td>...</td>\n",
       "      <td>...</td>\n",
       "      <td>...</td>\n",
       "      <td>...</td>\n",
       "      <td>...</td>\n",
       "      <td>...</td>\n",
       "    </tr>\n",
       "    <tr>\n",
       "      <th>45527</th>\n",
       "      <td>1</td>\n",
       "      <td>2</td>\n",
       "      <td>6</td>\n",
       "      <td>1</td>\n",
       "      <td>2</td>\n",
       "      <td>6</td>\n",
       "      <td>3</td>\n",
       "      <td>0</td>\n",
       "      <td>6</td>\n",
       "      <td>4</td>\n",
       "    </tr>\n",
       "    <tr>\n",
       "      <th>45528</th>\n",
       "      <td>2</td>\n",
       "      <td>2</td>\n",
       "      <td>2</td>\n",
       "      <td>3</td>\n",
       "      <td>1</td>\n",
       "      <td>3</td>\n",
       "      <td>3</td>\n",
       "      <td>4</td>\n",
       "      <td>1</td>\n",
       "      <td>5</td>\n",
       "    </tr>\n",
       "    <tr>\n",
       "      <th>45529</th>\n",
       "      <td>4</td>\n",
       "      <td>4</td>\n",
       "      <td>2</td>\n",
       "      <td>4</td>\n",
       "      <td>0</td>\n",
       "      <td>1</td>\n",
       "      <td>0</td>\n",
       "      <td>2</td>\n",
       "      <td>1</td>\n",
       "      <td>6</td>\n",
       "    </tr>\n",
       "    <tr>\n",
       "      <th>45530</th>\n",
       "      <td>1</td>\n",
       "      <td>2</td>\n",
       "      <td>0</td>\n",
       "      <td>4</td>\n",
       "      <td>0</td>\n",
       "      <td>1</td>\n",
       "      <td>3</td>\n",
       "      <td>2</td>\n",
       "      <td>2</td>\n",
       "      <td>4</td>\n",
       "    </tr>\n",
       "    <tr>\n",
       "      <th>45531</th>\n",
       "      <td>3</td>\n",
       "      <td>2</td>\n",
       "      <td>1</td>\n",
       "      <td>2</td>\n",
       "      <td>3</td>\n",
       "      <td>0</td>\n",
       "      <td>2</td>\n",
       "      <td>3</td>\n",
       "      <td>1</td>\n",
       "      <td>2</td>\n",
       "    </tr>\n",
       "  </tbody>\n",
       "</table>\n",
       "<p>45532 rows × 10 columns</p>\n",
       "</div>"
      ],
      "text/plain": [
       "       tp01  tp02  tp03  tp04  tp05  tp06  tp07  tp08  tp09  tp10\n",
       "0         2     2     2     1     2     1     7     4     4     3\n",
       "1         1     1     0     0     1     2     3     4     0     4\n",
       "2         2     3     1     5     3     4     2     6     1     3\n",
       "3         2     4     1     1     1     3     1     3     1     3\n",
       "4         1     1     1     6     0     2     0     6     2     6\n",
       "...     ...   ...   ...   ...   ...   ...   ...   ...   ...   ...\n",
       "45527     1     2     6     1     2     6     3     0     6     4\n",
       "45528     2     2     2     3     1     3     3     4     1     5\n",
       "45529     4     4     2     4     0     1     0     2     1     6\n",
       "45530     1     2     0     4     0     1     3     2     2     4\n",
       "45531     3     2     1     2     3     0     2     3     1     2\n",
       "\n",
       "[45532 rows x 10 columns]"
      ]
     },
     "execution_count": 24,
     "metadata": {},
     "output_type": "execute_result"
    }
   ],
   "source": [
    "train[tipi]"
   ]
  },
  {
   "cell_type": "code",
   "execution_count": 25,
   "metadata": {},
   "outputs": [],
   "source": [
    "reverse_col=['tp02','tp04','tp06','tp08','tp10']\n",
    "for col in reverse_col:\n",
    "    train[col]=8-train[col]\n",
    "    test[col]=8-train[col]"
   ]
  },
  {
   "cell_type": "code",
   "execution_count": 26,
   "metadata": {},
   "outputs": [],
   "source": [
    "#tipi 계산 항목 생성\n",
    "train['Extro']=(train['tp01']+train['tp06'])/2\n",
    "train['Agree']=(train['tp02']+train['tp07'])/2\n",
    "train['Cons']=(train['tp03']+train['tp08'])/2\n",
    "train['Emo']=(train['tp04']+train['tp09'])/2\n",
    "train['Open']=(train['tp05']+train['tp10'])/2\n",
    "test['Extro']=(test['tp01']+test['tp06'])/2\n",
    "test['Agree']=(test['tp02']+test['tp07'])/2\n",
    "test['Cons']=(test['tp03']+test['tp08'])/2\n",
    "test['Emo']=(test['tp04']+test['tp09'])/2\n",
    "test['Open']=(test['tp05']+test['tp10'])/2"
   ]
  },
  {
   "cell_type": "code",
   "execution_count": 27,
   "metadata": {},
   "outputs": [],
   "source": [
    "train.drop(tipi,axis=1,inplace=True)\n",
    "test.drop(tipi,axis=1,inplace=True)"
   ]
  },
  {
   "cell_type": "code",
   "execution_count": 28,
   "metadata": {},
   "outputs": [],
   "source": [
    "#engnat 결측치 채우기\n",
    "train['engnat']=np.where(train['engnat']==0,1,train['engnat'])\n",
    "test['engnat']=np.where(test['engnat']==0,1,test['engnat'])"
   ]
  },
  {
   "cell_type": "code",
   "execution_count": 29,
   "metadata": {},
   "outputs": [],
   "source": [
    "#hand 결측치 채우기\n",
    "train['hand']=np.where(train['hand']==0,1,train['hand'])\n",
    "test['hand']=np.where(test['hand']==0,1,test['hand'])"
   ]
  },
  {
   "cell_type": "code",
   "execution_count": 30,
   "metadata": {},
   "outputs": [],
   "source": [
    "#married 결측치 채우기\n",
    "train['married']=np.where(train['married']==0,1,train['married'])\n",
    "test['married']=np.where(test['married']==0,1,test['married'])"
   ]
  },
  {
   "cell_type": "code",
   "execution_count": 31,
   "metadata": {},
   "outputs": [],
   "source": [
    "#education 결측치 채우기\n",
    "train['education']=np.where((train['education']==0)&(train['married']==1),2,train['education'])\n",
    "test['education']=np.where((test['education']==0)&(test['married']==1),2,test['education'])"
   ]
  },
  {
   "cell_type": "code",
   "execution_count": 32,
   "metadata": {},
   "outputs": [],
   "source": [
    "#education 나머지 결측치 채우기\n",
    "train['education']=np.where(train['education']==0,3,train['education'])\n",
    "test['education']=np.where(test['education']==0,3,test['education'])"
   ]
  },
  {
   "cell_type": "code",
   "execution_count": 33,
   "metadata": {},
   "outputs": [],
   "source": [
    "#urban 결측치\n",
    "train['urban']=np.where((train['urban']==0)&(train['engnat']==2),3,train['engnat'])\n",
    "test['urban']=np.where((test['urban']==0)&(test['engnat']==2),3,test['engnat'])"
   ]
  },
  {
   "cell_type": "code",
   "execution_count": 34,
   "metadata": {},
   "outputs": [],
   "source": [
    "#urban 결측치 2\n",
    "train['urban']=np.where(train['urban']==0,2,train['urban'])\n",
    "test['urban']=np.where(test['urban']==0,2,test['urban'])"
   ]
  },
  {
   "cell_type": "code",
   "execution_count": 31,
   "metadata": {},
   "outputs": [],
   "source": [
    "#허구의 단어\n",
    "wf_col=['wf_01','wf_02','wf_03']\n",
    "wr_col=['wr_01','wr_02','wr_03','wr_04','wr_05','wr_06','wr_07','wr_08','wr_09','wr_10','wr_11','wr_12','wr_13']"
   ]
  },
  {
   "cell_type": "code",
   "execution_count": 45,
   "metadata": {},
   "outputs": [
    {
     "data": {
      "text/plain": [
       "count    45532.000000\n",
       "mean         2.600479\n",
       "std          1.557570\n",
       "min          0.000000\n",
       "25%          2.000000\n",
       "50%          2.000000\n",
       "75%          3.000000\n",
       "max         50.000000\n",
       "Name: familysize, dtype: float64"
      ]
     },
     "execution_count": 45,
     "metadata": {},
     "output_type": "execute_result"
    }
   ],
   "source": [
    "train['familysize'].describe()"
   ]
  },
  {
   "cell_type": "code",
   "execution_count": 41,
   "metadata": {},
   "outputs": [
    {
     "name": "stderr",
     "output_type": "stream",
     "text": [
      "C:\\ProgramData\\Anaconda3\\lib\\site-packages\\pandas\\core\\indexing.py:670: SettingWithCopyWarning: \n",
      "A value is trying to be set on a copy of a slice from a DataFrame\n",
      "\n",
      "See the caveats in the documentation: https://pandas.pydata.org/pandas-docs/stable/user_guide/indexing.html#returning-a-view-versus-a-copy\n",
      "  iloc._setitem_with_indexer(indexer, value)\n",
      "C:\\ProgramData\\Anaconda3\\lib\\site-packages\\pandas\\core\\indexing.py:670: SettingWithCopyWarning: \n",
      "A value is trying to be set on a copy of a slice from a DataFrame\n",
      "\n",
      "See the caveats in the documentation: https://pandas.pydata.org/pandas-docs/stable/user_guide/indexing.html#returning-a-view-versus-a-copy\n",
      "  iloc._setitem_with_indexer(indexer, value)\n"
     ]
    }
   ],
   "source": [
    "train['familysize'].loc[train['familysize']>50] = 50\n",
    "test['familysize'].loc[test['familysize']>50] = 50"
   ]
  },
  {
   "cell_type": "code",
   "execution_count": 40,
   "metadata": {},
   "outputs": [
    {
     "data": {
      "text/plain": [
       "Index(['age_group', 'education', 'engnat', 'familysize', 'gender', 'hand',\n",
       "       'married', 'race', 'religion', 'urban', 'voted', 'wf_01', 'wf_02',\n",
       "       'wf_03', 'wr_01', 'wr_02', 'wr_03', 'wr_04', 'wr_05', 'wr_06', 'wr_07',\n",
       "       'wr_08', 'wr_09', 'wr_10', 'wr_11', 'wr_12', 'wr_13', 'Score',\n",
       "       'Ans_time', 'Extro', 'Agree', 'Cons', 'Emo', 'Open'],\n",
       "      dtype='object')"
      ]
     },
     "execution_count": 40,
     "metadata": {},
     "output_type": "execute_result"
    }
   ],
   "source": [
    "train.columns"
   ]
  },
  {
   "cell_type": "code",
   "execution_count": 68,
   "metadata": {},
   "outputs": [
    {
     "data": {
      "text/plain": [
       "Index(['age_group', 'education', 'engnat', 'familysize', 'gender', 'married',\n",
       "       'race', 'religion', 'urban', 'voted', 'wf_01', 'wf_02', 'wf_03',\n",
       "       'wr_02', 'wr_04', 'wr_05', 'wr_07', 'wr_08', 'wr_10', 'wr_12', 'wr_13',\n",
       "       'Score', 'Ans_time', 'Extro', 'Agree', 'Cons', 'Emo', 'Open'],\n",
       "      dtype='object')"
      ]
     },
     "execution_count": 68,
     "metadata": {},
     "output_type": "execute_result"
    }
   ],
   "source": [
    "train.columns"
   ]
  },
  {
   "cell_type": "code",
   "execution_count": null,
   "metadata": {},
   "outputs": [],
   "source": [
    "#불필요한 컬럼 제거\n",
    "train.drop(['index','hand','wr_01','wr_03','wr_06'],axis=1,inplace=True)\n",
    "test.drop(['index','hand','wr_01','wr_03','wr_06'],axis=1,inplace=True)"
   ]
  },
  {
   "cell_type": "markdown",
   "metadata": {},
   "source": [
    "## 4. Model:AutoML(blending)"
   ]
  },
  {
   "cell_type": "code",
   "execution_count": 49,
   "metadata": {},
   "outputs": [
    {
     "name": "stdout",
     "output_type": "stream",
     "text": [
      "Setup Succesfully Completed!\n"
     ]
    },
    {
     "data": {
      "text/html": [
       "<style  type=\"text/css\" >\n",
       "</style><table id=\"T_606abb0b_39be_11eb_9f55_a0c5892fde05\" ><thead>    <tr>        <th class=\"blank level0\" ></th>        <th class=\"col_heading level0 col0\" >Description</th>        <th class=\"col_heading level0 col1\" >Value</th>    </tr></thead><tbody>\n",
       "                <tr>\n",
       "                        <th id=\"T_606abb0b_39be_11eb_9f55_a0c5892fde05level0_row0\" class=\"row_heading level0 row0\" >0</th>\n",
       "                        <td id=\"T_606abb0b_39be_11eb_9f55_a0c5892fde05row0_col0\" class=\"data row0 col0\" >session_id</td>\n",
       "                        <td id=\"T_606abb0b_39be_11eb_9f55_a0c5892fde05row0_col1\" class=\"data row0 col1\" >1360</td>\n",
       "            </tr>\n",
       "            <tr>\n",
       "                        <th id=\"T_606abb0b_39be_11eb_9f55_a0c5892fde05level0_row1\" class=\"row_heading level0 row1\" >1</th>\n",
       "                        <td id=\"T_606abb0b_39be_11eb_9f55_a0c5892fde05row1_col0\" class=\"data row1 col0\" >Target Type</td>\n",
       "                        <td id=\"T_606abb0b_39be_11eb_9f55_a0c5892fde05row1_col1\" class=\"data row1 col1\" >Binary</td>\n",
       "            </tr>\n",
       "            <tr>\n",
       "                        <th id=\"T_606abb0b_39be_11eb_9f55_a0c5892fde05level0_row2\" class=\"row_heading level0 row2\" >2</th>\n",
       "                        <td id=\"T_606abb0b_39be_11eb_9f55_a0c5892fde05row2_col0\" class=\"data row2 col0\" >Label Encoded</td>\n",
       "                        <td id=\"T_606abb0b_39be_11eb_9f55_a0c5892fde05row2_col1\" class=\"data row2 col1\" >1: 0, 2: 1</td>\n",
       "            </tr>\n",
       "            <tr>\n",
       "                        <th id=\"T_606abb0b_39be_11eb_9f55_a0c5892fde05level0_row3\" class=\"row_heading level0 row3\" >3</th>\n",
       "                        <td id=\"T_606abb0b_39be_11eb_9f55_a0c5892fde05row3_col0\" class=\"data row3 col0\" >Original Data</td>\n",
       "                        <td id=\"T_606abb0b_39be_11eb_9f55_a0c5892fde05row3_col1\" class=\"data row3 col1\" >(45532, 28)</td>\n",
       "            </tr>\n",
       "            <tr>\n",
       "                        <th id=\"T_606abb0b_39be_11eb_9f55_a0c5892fde05level0_row4\" class=\"row_heading level0 row4\" >4</th>\n",
       "                        <td id=\"T_606abb0b_39be_11eb_9f55_a0c5892fde05row4_col0\" class=\"data row4 col0\" >Missing Values </td>\n",
       "                        <td id=\"T_606abb0b_39be_11eb_9f55_a0c5892fde05row4_col1\" class=\"data row4 col1\" >False</td>\n",
       "            </tr>\n",
       "            <tr>\n",
       "                        <th id=\"T_606abb0b_39be_11eb_9f55_a0c5892fde05level0_row5\" class=\"row_heading level0 row5\" >5</th>\n",
       "                        <td id=\"T_606abb0b_39be_11eb_9f55_a0c5892fde05row5_col0\" class=\"data row5 col0\" >Numeric Features </td>\n",
       "                        <td id=\"T_606abb0b_39be_11eb_9f55_a0c5892fde05row5_col1\" class=\"data row5 col1\" >8</td>\n",
       "            </tr>\n",
       "            <tr>\n",
       "                        <th id=\"T_606abb0b_39be_11eb_9f55_a0c5892fde05level0_row6\" class=\"row_heading level0 row6\" >6</th>\n",
       "                        <td id=\"T_606abb0b_39be_11eb_9f55_a0c5892fde05row6_col0\" class=\"data row6 col0\" >Categorical Features </td>\n",
       "                        <td id=\"T_606abb0b_39be_11eb_9f55_a0c5892fde05row6_col1\" class=\"data row6 col1\" >19</td>\n",
       "            </tr>\n",
       "            <tr>\n",
       "                        <th id=\"T_606abb0b_39be_11eb_9f55_a0c5892fde05level0_row7\" class=\"row_heading level0 row7\" >7</th>\n",
       "                        <td id=\"T_606abb0b_39be_11eb_9f55_a0c5892fde05row7_col0\" class=\"data row7 col0\" >Ordinal Features </td>\n",
       "                        <td id=\"T_606abb0b_39be_11eb_9f55_a0c5892fde05row7_col1\" class=\"data row7 col1\" >False</td>\n",
       "            </tr>\n",
       "            <tr>\n",
       "                        <th id=\"T_606abb0b_39be_11eb_9f55_a0c5892fde05level0_row8\" class=\"row_heading level0 row8\" >8</th>\n",
       "                        <td id=\"T_606abb0b_39be_11eb_9f55_a0c5892fde05row8_col0\" class=\"data row8 col0\" >High Cardinality Features </td>\n",
       "                        <td id=\"T_606abb0b_39be_11eb_9f55_a0c5892fde05row8_col1\" class=\"data row8 col1\" >False</td>\n",
       "            </tr>\n",
       "            <tr>\n",
       "                        <th id=\"T_606abb0b_39be_11eb_9f55_a0c5892fde05level0_row9\" class=\"row_heading level0 row9\" >9</th>\n",
       "                        <td id=\"T_606abb0b_39be_11eb_9f55_a0c5892fde05row9_col0\" class=\"data row9 col0\" >High Cardinality Method </td>\n",
       "                        <td id=\"T_606abb0b_39be_11eb_9f55_a0c5892fde05row9_col1\" class=\"data row9 col1\" >None</td>\n",
       "            </tr>\n",
       "            <tr>\n",
       "                        <th id=\"T_606abb0b_39be_11eb_9f55_a0c5892fde05level0_row10\" class=\"row_heading level0 row10\" >10</th>\n",
       "                        <td id=\"T_606abb0b_39be_11eb_9f55_a0c5892fde05row10_col0\" class=\"data row10 col0\" >Sampled Data</td>\n",
       "                        <td id=\"T_606abb0b_39be_11eb_9f55_a0c5892fde05row10_col1\" class=\"data row10 col1\" >(45532, 28)</td>\n",
       "            </tr>\n",
       "            <tr>\n",
       "                        <th id=\"T_606abb0b_39be_11eb_9f55_a0c5892fde05level0_row11\" class=\"row_heading level0 row11\" >11</th>\n",
       "                        <td id=\"T_606abb0b_39be_11eb_9f55_a0c5892fde05row11_col0\" class=\"data row11 col0\" >Transformed Train Set</td>\n",
       "                        <td id=\"T_606abb0b_39be_11eb_9f55_a0c5892fde05row11_col1\" class=\"data row11 col1\" >(31872, 70)</td>\n",
       "            </tr>\n",
       "            <tr>\n",
       "                        <th id=\"T_606abb0b_39be_11eb_9f55_a0c5892fde05level0_row12\" class=\"row_heading level0 row12\" >12</th>\n",
       "                        <td id=\"T_606abb0b_39be_11eb_9f55_a0c5892fde05row12_col0\" class=\"data row12 col0\" >Transformed Test Set</td>\n",
       "                        <td id=\"T_606abb0b_39be_11eb_9f55_a0c5892fde05row12_col1\" class=\"data row12 col1\" >(13660, 70)</td>\n",
       "            </tr>\n",
       "            <tr>\n",
       "                        <th id=\"T_606abb0b_39be_11eb_9f55_a0c5892fde05level0_row13\" class=\"row_heading level0 row13\" >13</th>\n",
       "                        <td id=\"T_606abb0b_39be_11eb_9f55_a0c5892fde05row13_col0\" class=\"data row13 col0\" >Numeric Imputer </td>\n",
       "                        <td id=\"T_606abb0b_39be_11eb_9f55_a0c5892fde05row13_col1\" class=\"data row13 col1\" >mean</td>\n",
       "            </tr>\n",
       "            <tr>\n",
       "                        <th id=\"T_606abb0b_39be_11eb_9f55_a0c5892fde05level0_row14\" class=\"row_heading level0 row14\" >14</th>\n",
       "                        <td id=\"T_606abb0b_39be_11eb_9f55_a0c5892fde05row14_col0\" class=\"data row14 col0\" >Categorical Imputer </td>\n",
       "                        <td id=\"T_606abb0b_39be_11eb_9f55_a0c5892fde05row14_col1\" class=\"data row14 col1\" >constant</td>\n",
       "            </tr>\n",
       "            <tr>\n",
       "                        <th id=\"T_606abb0b_39be_11eb_9f55_a0c5892fde05level0_row15\" class=\"row_heading level0 row15\" >15</th>\n",
       "                        <td id=\"T_606abb0b_39be_11eb_9f55_a0c5892fde05row15_col0\" class=\"data row15 col0\" >Normalize </td>\n",
       "                        <td id=\"T_606abb0b_39be_11eb_9f55_a0c5892fde05row15_col1\" class=\"data row15 col1\" >False</td>\n",
       "            </tr>\n",
       "            <tr>\n",
       "                        <th id=\"T_606abb0b_39be_11eb_9f55_a0c5892fde05level0_row16\" class=\"row_heading level0 row16\" >16</th>\n",
       "                        <td id=\"T_606abb0b_39be_11eb_9f55_a0c5892fde05row16_col0\" class=\"data row16 col0\" >Normalize Method </td>\n",
       "                        <td id=\"T_606abb0b_39be_11eb_9f55_a0c5892fde05row16_col1\" class=\"data row16 col1\" >None</td>\n",
       "            </tr>\n",
       "            <tr>\n",
       "                        <th id=\"T_606abb0b_39be_11eb_9f55_a0c5892fde05level0_row17\" class=\"row_heading level0 row17\" >17</th>\n",
       "                        <td id=\"T_606abb0b_39be_11eb_9f55_a0c5892fde05row17_col0\" class=\"data row17 col0\" >Transformation </td>\n",
       "                        <td id=\"T_606abb0b_39be_11eb_9f55_a0c5892fde05row17_col1\" class=\"data row17 col1\" >False</td>\n",
       "            </tr>\n",
       "            <tr>\n",
       "                        <th id=\"T_606abb0b_39be_11eb_9f55_a0c5892fde05level0_row18\" class=\"row_heading level0 row18\" >18</th>\n",
       "                        <td id=\"T_606abb0b_39be_11eb_9f55_a0c5892fde05row18_col0\" class=\"data row18 col0\" >Transformation Method </td>\n",
       "                        <td id=\"T_606abb0b_39be_11eb_9f55_a0c5892fde05row18_col1\" class=\"data row18 col1\" >None</td>\n",
       "            </tr>\n",
       "            <tr>\n",
       "                        <th id=\"T_606abb0b_39be_11eb_9f55_a0c5892fde05level0_row19\" class=\"row_heading level0 row19\" >19</th>\n",
       "                        <td id=\"T_606abb0b_39be_11eb_9f55_a0c5892fde05row19_col0\" class=\"data row19 col0\" >PCA </td>\n",
       "                        <td id=\"T_606abb0b_39be_11eb_9f55_a0c5892fde05row19_col1\" class=\"data row19 col1\" >False</td>\n",
       "            </tr>\n",
       "            <tr>\n",
       "                        <th id=\"T_606abb0b_39be_11eb_9f55_a0c5892fde05level0_row20\" class=\"row_heading level0 row20\" >20</th>\n",
       "                        <td id=\"T_606abb0b_39be_11eb_9f55_a0c5892fde05row20_col0\" class=\"data row20 col0\" >PCA Method </td>\n",
       "                        <td id=\"T_606abb0b_39be_11eb_9f55_a0c5892fde05row20_col1\" class=\"data row20 col1\" >None</td>\n",
       "            </tr>\n",
       "            <tr>\n",
       "                        <th id=\"T_606abb0b_39be_11eb_9f55_a0c5892fde05level0_row21\" class=\"row_heading level0 row21\" >21</th>\n",
       "                        <td id=\"T_606abb0b_39be_11eb_9f55_a0c5892fde05row21_col0\" class=\"data row21 col0\" >PCA Components </td>\n",
       "                        <td id=\"T_606abb0b_39be_11eb_9f55_a0c5892fde05row21_col1\" class=\"data row21 col1\" >None</td>\n",
       "            </tr>\n",
       "            <tr>\n",
       "                        <th id=\"T_606abb0b_39be_11eb_9f55_a0c5892fde05level0_row22\" class=\"row_heading level0 row22\" >22</th>\n",
       "                        <td id=\"T_606abb0b_39be_11eb_9f55_a0c5892fde05row22_col0\" class=\"data row22 col0\" >Ignore Low Variance </td>\n",
       "                        <td id=\"T_606abb0b_39be_11eb_9f55_a0c5892fde05row22_col1\" class=\"data row22 col1\" >False</td>\n",
       "            </tr>\n",
       "            <tr>\n",
       "                        <th id=\"T_606abb0b_39be_11eb_9f55_a0c5892fde05level0_row23\" class=\"row_heading level0 row23\" >23</th>\n",
       "                        <td id=\"T_606abb0b_39be_11eb_9f55_a0c5892fde05row23_col0\" class=\"data row23 col0\" >Combine Rare Levels </td>\n",
       "                        <td id=\"T_606abb0b_39be_11eb_9f55_a0c5892fde05row23_col1\" class=\"data row23 col1\" >False</td>\n",
       "            </tr>\n",
       "            <tr>\n",
       "                        <th id=\"T_606abb0b_39be_11eb_9f55_a0c5892fde05level0_row24\" class=\"row_heading level0 row24\" >24</th>\n",
       "                        <td id=\"T_606abb0b_39be_11eb_9f55_a0c5892fde05row24_col0\" class=\"data row24 col0\" >Rare Level Threshold </td>\n",
       "                        <td id=\"T_606abb0b_39be_11eb_9f55_a0c5892fde05row24_col1\" class=\"data row24 col1\" >None</td>\n",
       "            </tr>\n",
       "            <tr>\n",
       "                        <th id=\"T_606abb0b_39be_11eb_9f55_a0c5892fde05level0_row25\" class=\"row_heading level0 row25\" >25</th>\n",
       "                        <td id=\"T_606abb0b_39be_11eb_9f55_a0c5892fde05row25_col0\" class=\"data row25 col0\" >Numeric Binning </td>\n",
       "                        <td id=\"T_606abb0b_39be_11eb_9f55_a0c5892fde05row25_col1\" class=\"data row25 col1\" >False</td>\n",
       "            </tr>\n",
       "            <tr>\n",
       "                        <th id=\"T_606abb0b_39be_11eb_9f55_a0c5892fde05level0_row26\" class=\"row_heading level0 row26\" >26</th>\n",
       "                        <td id=\"T_606abb0b_39be_11eb_9f55_a0c5892fde05row26_col0\" class=\"data row26 col0\" >Remove Outliers </td>\n",
       "                        <td id=\"T_606abb0b_39be_11eb_9f55_a0c5892fde05row26_col1\" class=\"data row26 col1\" >False</td>\n",
       "            </tr>\n",
       "            <tr>\n",
       "                        <th id=\"T_606abb0b_39be_11eb_9f55_a0c5892fde05level0_row27\" class=\"row_heading level0 row27\" >27</th>\n",
       "                        <td id=\"T_606abb0b_39be_11eb_9f55_a0c5892fde05row27_col0\" class=\"data row27 col0\" >Outliers Threshold </td>\n",
       "                        <td id=\"T_606abb0b_39be_11eb_9f55_a0c5892fde05row27_col1\" class=\"data row27 col1\" >None</td>\n",
       "            </tr>\n",
       "            <tr>\n",
       "                        <th id=\"T_606abb0b_39be_11eb_9f55_a0c5892fde05level0_row28\" class=\"row_heading level0 row28\" >28</th>\n",
       "                        <td id=\"T_606abb0b_39be_11eb_9f55_a0c5892fde05row28_col0\" class=\"data row28 col0\" >Remove Multicollinearity </td>\n",
       "                        <td id=\"T_606abb0b_39be_11eb_9f55_a0c5892fde05row28_col1\" class=\"data row28 col1\" >False</td>\n",
       "            </tr>\n",
       "            <tr>\n",
       "                        <th id=\"T_606abb0b_39be_11eb_9f55_a0c5892fde05level0_row29\" class=\"row_heading level0 row29\" >29</th>\n",
       "                        <td id=\"T_606abb0b_39be_11eb_9f55_a0c5892fde05row29_col0\" class=\"data row29 col0\" >Multicollinearity Threshold </td>\n",
       "                        <td id=\"T_606abb0b_39be_11eb_9f55_a0c5892fde05row29_col1\" class=\"data row29 col1\" >None</td>\n",
       "            </tr>\n",
       "            <tr>\n",
       "                        <th id=\"T_606abb0b_39be_11eb_9f55_a0c5892fde05level0_row30\" class=\"row_heading level0 row30\" >30</th>\n",
       "                        <td id=\"T_606abb0b_39be_11eb_9f55_a0c5892fde05row30_col0\" class=\"data row30 col0\" >Clustering </td>\n",
       "                        <td id=\"T_606abb0b_39be_11eb_9f55_a0c5892fde05row30_col1\" class=\"data row30 col1\" >False</td>\n",
       "            </tr>\n",
       "            <tr>\n",
       "                        <th id=\"T_606abb0b_39be_11eb_9f55_a0c5892fde05level0_row31\" class=\"row_heading level0 row31\" >31</th>\n",
       "                        <td id=\"T_606abb0b_39be_11eb_9f55_a0c5892fde05row31_col0\" class=\"data row31 col0\" >Clustering Iteration </td>\n",
       "                        <td id=\"T_606abb0b_39be_11eb_9f55_a0c5892fde05row31_col1\" class=\"data row31 col1\" >None</td>\n",
       "            </tr>\n",
       "            <tr>\n",
       "                        <th id=\"T_606abb0b_39be_11eb_9f55_a0c5892fde05level0_row32\" class=\"row_heading level0 row32\" >32</th>\n",
       "                        <td id=\"T_606abb0b_39be_11eb_9f55_a0c5892fde05row32_col0\" class=\"data row32 col0\" >Polynomial Features </td>\n",
       "                        <td id=\"T_606abb0b_39be_11eb_9f55_a0c5892fde05row32_col1\" class=\"data row32 col1\" >False</td>\n",
       "            </tr>\n",
       "            <tr>\n",
       "                        <th id=\"T_606abb0b_39be_11eb_9f55_a0c5892fde05level0_row33\" class=\"row_heading level0 row33\" >33</th>\n",
       "                        <td id=\"T_606abb0b_39be_11eb_9f55_a0c5892fde05row33_col0\" class=\"data row33 col0\" >Polynomial Degree </td>\n",
       "                        <td id=\"T_606abb0b_39be_11eb_9f55_a0c5892fde05row33_col1\" class=\"data row33 col1\" >None</td>\n",
       "            </tr>\n",
       "            <tr>\n",
       "                        <th id=\"T_606abb0b_39be_11eb_9f55_a0c5892fde05level0_row34\" class=\"row_heading level0 row34\" >34</th>\n",
       "                        <td id=\"T_606abb0b_39be_11eb_9f55_a0c5892fde05row34_col0\" class=\"data row34 col0\" >Trignometry Features </td>\n",
       "                        <td id=\"T_606abb0b_39be_11eb_9f55_a0c5892fde05row34_col1\" class=\"data row34 col1\" >False</td>\n",
       "            </tr>\n",
       "            <tr>\n",
       "                        <th id=\"T_606abb0b_39be_11eb_9f55_a0c5892fde05level0_row35\" class=\"row_heading level0 row35\" >35</th>\n",
       "                        <td id=\"T_606abb0b_39be_11eb_9f55_a0c5892fde05row35_col0\" class=\"data row35 col0\" >Polynomial Threshold </td>\n",
       "                        <td id=\"T_606abb0b_39be_11eb_9f55_a0c5892fde05row35_col1\" class=\"data row35 col1\" >None</td>\n",
       "            </tr>\n",
       "            <tr>\n",
       "                        <th id=\"T_606abb0b_39be_11eb_9f55_a0c5892fde05level0_row36\" class=\"row_heading level0 row36\" >36</th>\n",
       "                        <td id=\"T_606abb0b_39be_11eb_9f55_a0c5892fde05row36_col0\" class=\"data row36 col0\" >Group Features </td>\n",
       "                        <td id=\"T_606abb0b_39be_11eb_9f55_a0c5892fde05row36_col1\" class=\"data row36 col1\" >False</td>\n",
       "            </tr>\n",
       "            <tr>\n",
       "                        <th id=\"T_606abb0b_39be_11eb_9f55_a0c5892fde05level0_row37\" class=\"row_heading level0 row37\" >37</th>\n",
       "                        <td id=\"T_606abb0b_39be_11eb_9f55_a0c5892fde05row37_col0\" class=\"data row37 col0\" >Feature Selection </td>\n",
       "                        <td id=\"T_606abb0b_39be_11eb_9f55_a0c5892fde05row37_col1\" class=\"data row37 col1\" >False</td>\n",
       "            </tr>\n",
       "            <tr>\n",
       "                        <th id=\"T_606abb0b_39be_11eb_9f55_a0c5892fde05level0_row38\" class=\"row_heading level0 row38\" >38</th>\n",
       "                        <td id=\"T_606abb0b_39be_11eb_9f55_a0c5892fde05row38_col0\" class=\"data row38 col0\" >Features Selection Threshold </td>\n",
       "                        <td id=\"T_606abb0b_39be_11eb_9f55_a0c5892fde05row38_col1\" class=\"data row38 col1\" >None</td>\n",
       "            </tr>\n",
       "            <tr>\n",
       "                        <th id=\"T_606abb0b_39be_11eb_9f55_a0c5892fde05level0_row39\" class=\"row_heading level0 row39\" >39</th>\n",
       "                        <td id=\"T_606abb0b_39be_11eb_9f55_a0c5892fde05row39_col0\" class=\"data row39 col0\" >Feature Interaction </td>\n",
       "                        <td id=\"T_606abb0b_39be_11eb_9f55_a0c5892fde05row39_col1\" class=\"data row39 col1\" >False</td>\n",
       "            </tr>\n",
       "            <tr>\n",
       "                        <th id=\"T_606abb0b_39be_11eb_9f55_a0c5892fde05level0_row40\" class=\"row_heading level0 row40\" >40</th>\n",
       "                        <td id=\"T_606abb0b_39be_11eb_9f55_a0c5892fde05row40_col0\" class=\"data row40 col0\" >Feature Ratio </td>\n",
       "                        <td id=\"T_606abb0b_39be_11eb_9f55_a0c5892fde05row40_col1\" class=\"data row40 col1\" >False</td>\n",
       "            </tr>\n",
       "            <tr>\n",
       "                        <th id=\"T_606abb0b_39be_11eb_9f55_a0c5892fde05level0_row41\" class=\"row_heading level0 row41\" >41</th>\n",
       "                        <td id=\"T_606abb0b_39be_11eb_9f55_a0c5892fde05row41_col0\" class=\"data row41 col0\" >Interaction Threshold </td>\n",
       "                        <td id=\"T_606abb0b_39be_11eb_9f55_a0c5892fde05row41_col1\" class=\"data row41 col1\" >None</td>\n",
       "            </tr>\n",
       "            <tr>\n",
       "                        <th id=\"T_606abb0b_39be_11eb_9f55_a0c5892fde05level0_row42\" class=\"row_heading level0 row42\" >42</th>\n",
       "                        <td id=\"T_606abb0b_39be_11eb_9f55_a0c5892fde05row42_col0\" class=\"data row42 col0\" >Fix Imbalance</td>\n",
       "                        <td id=\"T_606abb0b_39be_11eb_9f55_a0c5892fde05row42_col1\" class=\"data row42 col1\" >False</td>\n",
       "            </tr>\n",
       "            <tr>\n",
       "                        <th id=\"T_606abb0b_39be_11eb_9f55_a0c5892fde05level0_row43\" class=\"row_heading level0 row43\" >43</th>\n",
       "                        <td id=\"T_606abb0b_39be_11eb_9f55_a0c5892fde05row43_col0\" class=\"data row43 col0\" >Fix Imbalance Method</td>\n",
       "                        <td id=\"T_606abb0b_39be_11eb_9f55_a0c5892fde05row43_col1\" class=\"data row43 col1\" >SMOTE</td>\n",
       "            </tr>\n",
       "    </tbody></table>"
      ],
      "text/plain": [
       "<pandas.io.formats.style.Styler at 0x16d0aac15b0>"
      ]
     },
     "metadata": {},
     "output_type": "display_data"
    }
   ],
   "source": [
    "clf = setup(data = train, target = 'voted')"
   ]
  },
  {
   "cell_type": "code",
   "execution_count": 50,
   "metadata": {},
   "outputs": [
    {
     "data": {
      "text/html": [
       "<style  type=\"text/css\" >\n",
       "    #T_a0ace7fb_39bf_11eb_bec7_a0c5892fde05 th {\n",
       "          text-align: left;\n",
       "    }#T_a0ace7fb_39bf_11eb_bec7_a0c5892fde05row0_col0,#T_a0ace7fb_39bf_11eb_bec7_a0c5892fde05row0_col1,#T_a0ace7fb_39bf_11eb_bec7_a0c5892fde05row0_col3,#T_a0ace7fb_39bf_11eb_bec7_a0c5892fde05row0_col4,#T_a0ace7fb_39bf_11eb_bec7_a0c5892fde05row0_col5,#T_a0ace7fb_39bf_11eb_bec7_a0c5892fde05row0_col6,#T_a0ace7fb_39bf_11eb_bec7_a0c5892fde05row0_col7,#T_a0ace7fb_39bf_11eb_bec7_a0c5892fde05row1_col0,#T_a0ace7fb_39bf_11eb_bec7_a0c5892fde05row1_col1,#T_a0ace7fb_39bf_11eb_bec7_a0c5892fde05row1_col2,#T_a0ace7fb_39bf_11eb_bec7_a0c5892fde05row1_col3,#T_a0ace7fb_39bf_11eb_bec7_a0c5892fde05row1_col4,#T_a0ace7fb_39bf_11eb_bec7_a0c5892fde05row1_col5,#T_a0ace7fb_39bf_11eb_bec7_a0c5892fde05row1_col6,#T_a0ace7fb_39bf_11eb_bec7_a0c5892fde05row1_col7,#T_a0ace7fb_39bf_11eb_bec7_a0c5892fde05row2_col0,#T_a0ace7fb_39bf_11eb_bec7_a0c5892fde05row2_col2,#T_a0ace7fb_39bf_11eb_bec7_a0c5892fde05row2_col3,#T_a0ace7fb_39bf_11eb_bec7_a0c5892fde05row2_col5,#T_a0ace7fb_39bf_11eb_bec7_a0c5892fde05row3_col0,#T_a0ace7fb_39bf_11eb_bec7_a0c5892fde05row3_col1,#T_a0ace7fb_39bf_11eb_bec7_a0c5892fde05row3_col2,#T_a0ace7fb_39bf_11eb_bec7_a0c5892fde05row3_col3,#T_a0ace7fb_39bf_11eb_bec7_a0c5892fde05row3_col4,#T_a0ace7fb_39bf_11eb_bec7_a0c5892fde05row3_col5,#T_a0ace7fb_39bf_11eb_bec7_a0c5892fde05row3_col6,#T_a0ace7fb_39bf_11eb_bec7_a0c5892fde05row3_col7,#T_a0ace7fb_39bf_11eb_bec7_a0c5892fde05row4_col0,#T_a0ace7fb_39bf_11eb_bec7_a0c5892fde05row4_col1,#T_a0ace7fb_39bf_11eb_bec7_a0c5892fde05row4_col2,#T_a0ace7fb_39bf_11eb_bec7_a0c5892fde05row4_col3,#T_a0ace7fb_39bf_11eb_bec7_a0c5892fde05row4_col4,#T_a0ace7fb_39bf_11eb_bec7_a0c5892fde05row4_col5,#T_a0ace7fb_39bf_11eb_bec7_a0c5892fde05row4_col6,#T_a0ace7fb_39bf_11eb_bec7_a0c5892fde05row4_col7,#T_a0ace7fb_39bf_11eb_bec7_a0c5892fde05row5_col0,#T_a0ace7fb_39bf_11eb_bec7_a0c5892fde05row5_col1,#T_a0ace7fb_39bf_11eb_bec7_a0c5892fde05row5_col2,#T_a0ace7fb_39bf_11eb_bec7_a0c5892fde05row5_col4,#T_a0ace7fb_39bf_11eb_bec7_a0c5892fde05row5_col5,#T_a0ace7fb_39bf_11eb_bec7_a0c5892fde05row5_col6,#T_a0ace7fb_39bf_11eb_bec7_a0c5892fde05row5_col7,#T_a0ace7fb_39bf_11eb_bec7_a0c5892fde05row6_col0,#T_a0ace7fb_39bf_11eb_bec7_a0c5892fde05row6_col1,#T_a0ace7fb_39bf_11eb_bec7_a0c5892fde05row6_col2,#T_a0ace7fb_39bf_11eb_bec7_a0c5892fde05row6_col3,#T_a0ace7fb_39bf_11eb_bec7_a0c5892fde05row6_col4,#T_a0ace7fb_39bf_11eb_bec7_a0c5892fde05row6_col5,#T_a0ace7fb_39bf_11eb_bec7_a0c5892fde05row6_col6,#T_a0ace7fb_39bf_11eb_bec7_a0c5892fde05row6_col7,#T_a0ace7fb_39bf_11eb_bec7_a0c5892fde05row7_col0,#T_a0ace7fb_39bf_11eb_bec7_a0c5892fde05row7_col1,#T_a0ace7fb_39bf_11eb_bec7_a0c5892fde05row7_col2,#T_a0ace7fb_39bf_11eb_bec7_a0c5892fde05row7_col3,#T_a0ace7fb_39bf_11eb_bec7_a0c5892fde05row7_col4,#T_a0ace7fb_39bf_11eb_bec7_a0c5892fde05row7_col5,#T_a0ace7fb_39bf_11eb_bec7_a0c5892fde05row7_col6,#T_a0ace7fb_39bf_11eb_bec7_a0c5892fde05row7_col7,#T_a0ace7fb_39bf_11eb_bec7_a0c5892fde05row8_col0,#T_a0ace7fb_39bf_11eb_bec7_a0c5892fde05row8_col1,#T_a0ace7fb_39bf_11eb_bec7_a0c5892fde05row8_col2,#T_a0ace7fb_39bf_11eb_bec7_a0c5892fde05row8_col3,#T_a0ace7fb_39bf_11eb_bec7_a0c5892fde05row8_col4,#T_a0ace7fb_39bf_11eb_bec7_a0c5892fde05row8_col5,#T_a0ace7fb_39bf_11eb_bec7_a0c5892fde05row8_col6,#T_a0ace7fb_39bf_11eb_bec7_a0c5892fde05row8_col7,#T_a0ace7fb_39bf_11eb_bec7_a0c5892fde05row9_col0,#T_a0ace7fb_39bf_11eb_bec7_a0c5892fde05row9_col1,#T_a0ace7fb_39bf_11eb_bec7_a0c5892fde05row9_col2,#T_a0ace7fb_39bf_11eb_bec7_a0c5892fde05row9_col3,#T_a0ace7fb_39bf_11eb_bec7_a0c5892fde05row9_col4,#T_a0ace7fb_39bf_11eb_bec7_a0c5892fde05row9_col5,#T_a0ace7fb_39bf_11eb_bec7_a0c5892fde05row9_col6,#T_a0ace7fb_39bf_11eb_bec7_a0c5892fde05row9_col7,#T_a0ace7fb_39bf_11eb_bec7_a0c5892fde05row10_col0,#T_a0ace7fb_39bf_11eb_bec7_a0c5892fde05row10_col1,#T_a0ace7fb_39bf_11eb_bec7_a0c5892fde05row10_col2,#T_a0ace7fb_39bf_11eb_bec7_a0c5892fde05row10_col3,#T_a0ace7fb_39bf_11eb_bec7_a0c5892fde05row10_col4,#T_a0ace7fb_39bf_11eb_bec7_a0c5892fde05row10_col5,#T_a0ace7fb_39bf_11eb_bec7_a0c5892fde05row10_col6,#T_a0ace7fb_39bf_11eb_bec7_a0c5892fde05row10_col7,#T_a0ace7fb_39bf_11eb_bec7_a0c5892fde05row11_col0,#T_a0ace7fb_39bf_11eb_bec7_a0c5892fde05row11_col1,#T_a0ace7fb_39bf_11eb_bec7_a0c5892fde05row11_col2,#T_a0ace7fb_39bf_11eb_bec7_a0c5892fde05row11_col3,#T_a0ace7fb_39bf_11eb_bec7_a0c5892fde05row11_col4,#T_a0ace7fb_39bf_11eb_bec7_a0c5892fde05row11_col5,#T_a0ace7fb_39bf_11eb_bec7_a0c5892fde05row11_col6,#T_a0ace7fb_39bf_11eb_bec7_a0c5892fde05row11_col7,#T_a0ace7fb_39bf_11eb_bec7_a0c5892fde05row12_col0,#T_a0ace7fb_39bf_11eb_bec7_a0c5892fde05row12_col1,#T_a0ace7fb_39bf_11eb_bec7_a0c5892fde05row12_col2,#T_a0ace7fb_39bf_11eb_bec7_a0c5892fde05row12_col3,#T_a0ace7fb_39bf_11eb_bec7_a0c5892fde05row12_col4,#T_a0ace7fb_39bf_11eb_bec7_a0c5892fde05row12_col5,#T_a0ace7fb_39bf_11eb_bec7_a0c5892fde05row12_col6,#T_a0ace7fb_39bf_11eb_bec7_a0c5892fde05row12_col7,#T_a0ace7fb_39bf_11eb_bec7_a0c5892fde05row13_col0,#T_a0ace7fb_39bf_11eb_bec7_a0c5892fde05row13_col1,#T_a0ace7fb_39bf_11eb_bec7_a0c5892fde05row13_col2,#T_a0ace7fb_39bf_11eb_bec7_a0c5892fde05row13_col3,#T_a0ace7fb_39bf_11eb_bec7_a0c5892fde05row13_col4,#T_a0ace7fb_39bf_11eb_bec7_a0c5892fde05row13_col5,#T_a0ace7fb_39bf_11eb_bec7_a0c5892fde05row13_col6,#T_a0ace7fb_39bf_11eb_bec7_a0c5892fde05row13_col7,#T_a0ace7fb_39bf_11eb_bec7_a0c5892fde05row14_col0,#T_a0ace7fb_39bf_11eb_bec7_a0c5892fde05row14_col1,#T_a0ace7fb_39bf_11eb_bec7_a0c5892fde05row14_col2,#T_a0ace7fb_39bf_11eb_bec7_a0c5892fde05row14_col3,#T_a0ace7fb_39bf_11eb_bec7_a0c5892fde05row14_col4,#T_a0ace7fb_39bf_11eb_bec7_a0c5892fde05row14_col6,#T_a0ace7fb_39bf_11eb_bec7_a0c5892fde05row14_col7{\n",
       "            text-align:  left;\n",
       "        }#T_a0ace7fb_39bf_11eb_bec7_a0c5892fde05row0_col2,#T_a0ace7fb_39bf_11eb_bec7_a0c5892fde05row2_col1,#T_a0ace7fb_39bf_11eb_bec7_a0c5892fde05row2_col4,#T_a0ace7fb_39bf_11eb_bec7_a0c5892fde05row2_col6,#T_a0ace7fb_39bf_11eb_bec7_a0c5892fde05row2_col7,#T_a0ace7fb_39bf_11eb_bec7_a0c5892fde05row5_col3,#T_a0ace7fb_39bf_11eb_bec7_a0c5892fde05row14_col5{\n",
       "            background-color:  yellow;\n",
       "            text-align:  left;\n",
       "        }#T_a0ace7fb_39bf_11eb_bec7_a0c5892fde05row0_col8,#T_a0ace7fb_39bf_11eb_bec7_a0c5892fde05row1_col8,#T_a0ace7fb_39bf_11eb_bec7_a0c5892fde05row2_col8,#T_a0ace7fb_39bf_11eb_bec7_a0c5892fde05row3_col8,#T_a0ace7fb_39bf_11eb_bec7_a0c5892fde05row4_col8,#T_a0ace7fb_39bf_11eb_bec7_a0c5892fde05row5_col8,#T_a0ace7fb_39bf_11eb_bec7_a0c5892fde05row6_col8,#T_a0ace7fb_39bf_11eb_bec7_a0c5892fde05row7_col8,#T_a0ace7fb_39bf_11eb_bec7_a0c5892fde05row8_col8,#T_a0ace7fb_39bf_11eb_bec7_a0c5892fde05row9_col8,#T_a0ace7fb_39bf_11eb_bec7_a0c5892fde05row10_col8,#T_a0ace7fb_39bf_11eb_bec7_a0c5892fde05row11_col8,#T_a0ace7fb_39bf_11eb_bec7_a0c5892fde05row12_col8,#T_a0ace7fb_39bf_11eb_bec7_a0c5892fde05row13_col8,#T_a0ace7fb_39bf_11eb_bec7_a0c5892fde05row14_col8{\n",
       "            background-color:  lightgrey;\n",
       "            text-align:  left;\n",
       "        }</style><table id=\"T_a0ace7fb_39bf_11eb_bec7_a0c5892fde05\" ><thead>    <tr>        <th class=\"blank level0\" ></th>        <th class=\"col_heading level0 col0\" >Model</th>        <th class=\"col_heading level0 col1\" >Accuracy</th>        <th class=\"col_heading level0 col2\" >AUC</th>        <th class=\"col_heading level0 col3\" >Recall</th>        <th class=\"col_heading level0 col4\" >Prec.</th>        <th class=\"col_heading level0 col5\" >F1</th>        <th class=\"col_heading level0 col6\" >Kappa</th>        <th class=\"col_heading level0 col7\" >MCC</th>        <th class=\"col_heading level0 col8\" >TT (Sec)</th>    </tr></thead><tbody>\n",
       "                <tr>\n",
       "                        <th id=\"T_a0ace7fb_39bf_11eb_bec7_a0c5892fde05level0_row0\" class=\"row_heading level0 row0\" >0</th>\n",
       "                        <td id=\"T_a0ace7fb_39bf_11eb_bec7_a0c5892fde05row0_col0\" class=\"data row0 col0\" >Light Gradient Boosting Machine</td>\n",
       "                        <td id=\"T_a0ace7fb_39bf_11eb_bec7_a0c5892fde05row0_col1\" class=\"data row0 col1\" >0.6938</td>\n",
       "                        <td id=\"T_a0ace7fb_39bf_11eb_bec7_a0c5892fde05row0_col2\" class=\"data row0 col2\" >0.7668</td>\n",
       "                        <td id=\"T_a0ace7fb_39bf_11eb_bec7_a0c5892fde05row0_col3\" class=\"data row0 col3\" >0.6402</td>\n",
       "                        <td id=\"T_a0ace7fb_39bf_11eb_bec7_a0c5892fde05row0_col4\" class=\"data row0 col4\" >0.7618</td>\n",
       "                        <td id=\"T_a0ace7fb_39bf_11eb_bec7_a0c5892fde05row0_col5\" class=\"data row0 col5\" >0.6957</td>\n",
       "                        <td id=\"T_a0ace7fb_39bf_11eb_bec7_a0c5892fde05row0_col6\" class=\"data row0 col6\" >0.3923</td>\n",
       "                        <td id=\"T_a0ace7fb_39bf_11eb_bec7_a0c5892fde05row0_col7\" class=\"data row0 col7\" >0.3984</td>\n",
       "                        <td id=\"T_a0ace7fb_39bf_11eb_bec7_a0c5892fde05row0_col8\" class=\"data row0 col8\" >0.2600</td>\n",
       "            </tr>\n",
       "            <tr>\n",
       "                        <th id=\"T_a0ace7fb_39bf_11eb_bec7_a0c5892fde05level0_row1\" class=\"row_heading level0 row1\" >1</th>\n",
       "                        <td id=\"T_a0ace7fb_39bf_11eb_bec7_a0c5892fde05row1_col0\" class=\"data row1 col0\" >CatBoost Classifier</td>\n",
       "                        <td id=\"T_a0ace7fb_39bf_11eb_bec7_a0c5892fde05row1_col1\" class=\"data row1 col1\" >0.6931</td>\n",
       "                        <td id=\"T_a0ace7fb_39bf_11eb_bec7_a0c5892fde05row1_col2\" class=\"data row1 col2\" >0.7667</td>\n",
       "                        <td id=\"T_a0ace7fb_39bf_11eb_bec7_a0c5892fde05row1_col3\" class=\"data row1 col3\" >0.6532</td>\n",
       "                        <td id=\"T_a0ace7fb_39bf_11eb_bec7_a0c5892fde05row1_col4\" class=\"data row1 col4\" >0.7527</td>\n",
       "                        <td id=\"T_a0ace7fb_39bf_11eb_bec7_a0c5892fde05row1_col5\" class=\"data row1 col5\" >0.6993</td>\n",
       "                        <td id=\"T_a0ace7fb_39bf_11eb_bec7_a0c5892fde05row1_col6\" class=\"data row1 col6\" >0.3891</td>\n",
       "                        <td id=\"T_a0ace7fb_39bf_11eb_bec7_a0c5892fde05row1_col7\" class=\"data row1 col7\" >0.3932</td>\n",
       "                        <td id=\"T_a0ace7fb_39bf_11eb_bec7_a0c5892fde05row1_col8\" class=\"data row1 col8\" >10.6843</td>\n",
       "            </tr>\n",
       "            <tr>\n",
       "                        <th id=\"T_a0ace7fb_39bf_11eb_bec7_a0c5892fde05level0_row2\" class=\"row_heading level0 row2\" >2</th>\n",
       "                        <td id=\"T_a0ace7fb_39bf_11eb_bec7_a0c5892fde05row2_col0\" class=\"data row2 col0\" >Gradient Boosting Classifier</td>\n",
       "                        <td id=\"T_a0ace7fb_39bf_11eb_bec7_a0c5892fde05row2_col1\" class=\"data row2 col1\" >0.6950</td>\n",
       "                        <td id=\"T_a0ace7fb_39bf_11eb_bec7_a0c5892fde05row2_col2\" class=\"data row2 col2\" >0.7666</td>\n",
       "                        <td id=\"T_a0ace7fb_39bf_11eb_bec7_a0c5892fde05row2_col3\" class=\"data row2 col3\" >0.6421</td>\n",
       "                        <td id=\"T_a0ace7fb_39bf_11eb_bec7_a0c5892fde05row2_col4\" class=\"data row2 col4\" >0.7625</td>\n",
       "                        <td id=\"T_a0ace7fb_39bf_11eb_bec7_a0c5892fde05row2_col5\" class=\"data row2 col5\" >0.6970</td>\n",
       "                        <td id=\"T_a0ace7fb_39bf_11eb_bec7_a0c5892fde05row2_col6\" class=\"data row2 col6\" >0.3945</td>\n",
       "                        <td id=\"T_a0ace7fb_39bf_11eb_bec7_a0c5892fde05row2_col7\" class=\"data row2 col7\" >0.4004</td>\n",
       "                        <td id=\"T_a0ace7fb_39bf_11eb_bec7_a0c5892fde05row2_col8\" class=\"data row2 col8\" >7.3684</td>\n",
       "            </tr>\n",
       "            <tr>\n",
       "                        <th id=\"T_a0ace7fb_39bf_11eb_bec7_a0c5892fde05level0_row3\" class=\"row_heading level0 row3\" >3</th>\n",
       "                        <td id=\"T_a0ace7fb_39bf_11eb_bec7_a0c5892fde05row3_col0\" class=\"data row3 col0\" >Linear Discriminant Analysis</td>\n",
       "                        <td id=\"T_a0ace7fb_39bf_11eb_bec7_a0c5892fde05row3_col1\" class=\"data row3 col1\" >0.6918</td>\n",
       "                        <td id=\"T_a0ace7fb_39bf_11eb_bec7_a0c5892fde05row3_col2\" class=\"data row3 col2\" >0.7623</td>\n",
       "                        <td id=\"T_a0ace7fb_39bf_11eb_bec7_a0c5892fde05row3_col3\" class=\"data row3 col3\" >0.6608</td>\n",
       "                        <td id=\"T_a0ace7fb_39bf_11eb_bec7_a0c5892fde05row3_col4\" class=\"data row3 col4\" >0.7465</td>\n",
       "                        <td id=\"T_a0ace7fb_39bf_11eb_bec7_a0c5892fde05row3_col5\" class=\"data row3 col5\" >0.7010</td>\n",
       "                        <td id=\"T_a0ace7fb_39bf_11eb_bec7_a0c5892fde05row3_col6\" class=\"data row3 col6\" >0.3855</td>\n",
       "                        <td id=\"T_a0ace7fb_39bf_11eb_bec7_a0c5892fde05row3_col7\" class=\"data row3 col7\" >0.3886</td>\n",
       "                        <td id=\"T_a0ace7fb_39bf_11eb_bec7_a0c5892fde05row3_col8\" class=\"data row3 col8\" >0.3597</td>\n",
       "            </tr>\n",
       "            <tr>\n",
       "                        <th id=\"T_a0ace7fb_39bf_11eb_bec7_a0c5892fde05level0_row4\" class=\"row_heading level0 row4\" >4</th>\n",
       "                        <td id=\"T_a0ace7fb_39bf_11eb_bec7_a0c5892fde05row4_col0\" class=\"data row4 col0\" >Ada Boost Classifier</td>\n",
       "                        <td id=\"T_a0ace7fb_39bf_11eb_bec7_a0c5892fde05row4_col1\" class=\"data row4 col1\" >0.6905</td>\n",
       "                        <td id=\"T_a0ace7fb_39bf_11eb_bec7_a0c5892fde05row4_col2\" class=\"data row4 col2\" >0.7599</td>\n",
       "                        <td id=\"T_a0ace7fb_39bf_11eb_bec7_a0c5892fde05row4_col3\" class=\"data row4 col3\" >0.6552</td>\n",
       "                        <td id=\"T_a0ace7fb_39bf_11eb_bec7_a0c5892fde05row4_col4\" class=\"data row4 col4\" >0.7476</td>\n",
       "                        <td id=\"T_a0ace7fb_39bf_11eb_bec7_a0c5892fde05row4_col5\" class=\"data row4 col5\" >0.6983</td>\n",
       "                        <td id=\"T_a0ace7fb_39bf_11eb_bec7_a0c5892fde05row4_col6\" class=\"data row4 col6\" >0.3835</td>\n",
       "                        <td id=\"T_a0ace7fb_39bf_11eb_bec7_a0c5892fde05row4_col7\" class=\"data row4 col7\" >0.3871</td>\n",
       "                        <td id=\"T_a0ace7fb_39bf_11eb_bec7_a0c5892fde05row4_col8\" class=\"data row4 col8\" >2.2577</td>\n",
       "            </tr>\n",
       "            <tr>\n",
       "                        <th id=\"T_a0ace7fb_39bf_11eb_bec7_a0c5892fde05level0_row5\" class=\"row_heading level0 row5\" >5</th>\n",
       "                        <td id=\"T_a0ace7fb_39bf_11eb_bec7_a0c5892fde05row5_col0\" class=\"data row5 col0\" >Logistic Regression</td>\n",
       "                        <td id=\"T_a0ace7fb_39bf_11eb_bec7_a0c5892fde05row5_col1\" class=\"data row5 col1\" >0.6859</td>\n",
       "                        <td id=\"T_a0ace7fb_39bf_11eb_bec7_a0c5892fde05row5_col2\" class=\"data row5 col2\" >0.7553</td>\n",
       "                        <td id=\"T_a0ace7fb_39bf_11eb_bec7_a0c5892fde05row5_col3\" class=\"data row5 col3\" >0.6623</td>\n",
       "                        <td id=\"T_a0ace7fb_39bf_11eb_bec7_a0c5892fde05row5_col4\" class=\"data row5 col4\" >0.7367</td>\n",
       "                        <td id=\"T_a0ace7fb_39bf_11eb_bec7_a0c5892fde05row5_col5\" class=\"data row5 col5\" >0.6974</td>\n",
       "                        <td id=\"T_a0ace7fb_39bf_11eb_bec7_a0c5892fde05row5_col6\" class=\"data row5 col6\" >0.3728</td>\n",
       "                        <td id=\"T_a0ace7fb_39bf_11eb_bec7_a0c5892fde05row5_col7\" class=\"data row5 col7\" >0.3752</td>\n",
       "                        <td id=\"T_a0ace7fb_39bf_11eb_bec7_a0c5892fde05row5_col8\" class=\"data row5 col8\" >0.6073</td>\n",
       "            </tr>\n",
       "            <tr>\n",
       "                        <th id=\"T_a0ace7fb_39bf_11eb_bec7_a0c5892fde05level0_row6\" class=\"row_heading level0 row6\" >6</th>\n",
       "                        <td id=\"T_a0ace7fb_39bf_11eb_bec7_a0c5892fde05row6_col0\" class=\"data row6 col0\" >Extreme Gradient Boosting</td>\n",
       "                        <td id=\"T_a0ace7fb_39bf_11eb_bec7_a0c5892fde05row6_col1\" class=\"data row6 col1\" >0.6812</td>\n",
       "                        <td id=\"T_a0ace7fb_39bf_11eb_bec7_a0c5892fde05row6_col2\" class=\"data row6 col2\" >0.7532</td>\n",
       "                        <td id=\"T_a0ace7fb_39bf_11eb_bec7_a0c5892fde05row6_col3\" class=\"data row6 col3\" >0.6577</td>\n",
       "                        <td id=\"T_a0ace7fb_39bf_11eb_bec7_a0c5892fde05row6_col4\" class=\"data row6 col4\" >0.7320</td>\n",
       "                        <td id=\"T_a0ace7fb_39bf_11eb_bec7_a0c5892fde05row6_col5\" class=\"data row6 col5\" >0.6928</td>\n",
       "                        <td id=\"T_a0ace7fb_39bf_11eb_bec7_a0c5892fde05row6_col6\" class=\"data row6 col6\" >0.3635</td>\n",
       "                        <td id=\"T_a0ace7fb_39bf_11eb_bec7_a0c5892fde05row6_col7\" class=\"data row6 col7\" >0.3658</td>\n",
       "                        <td id=\"T_a0ace7fb_39bf_11eb_bec7_a0c5892fde05row6_col8\" class=\"data row6 col8\" >2.2822</td>\n",
       "            </tr>\n",
       "            <tr>\n",
       "                        <th id=\"T_a0ace7fb_39bf_11eb_bec7_a0c5892fde05level0_row7\" class=\"row_heading level0 row7\" >7</th>\n",
       "                        <td id=\"T_a0ace7fb_39bf_11eb_bec7_a0c5892fde05row7_col0\" class=\"data row7 col0\" >Extra Trees Classifier</td>\n",
       "                        <td id=\"T_a0ace7fb_39bf_11eb_bec7_a0c5892fde05row7_col1\" class=\"data row7 col1\" >0.6759</td>\n",
       "                        <td id=\"T_a0ace7fb_39bf_11eb_bec7_a0c5892fde05row7_col2\" class=\"data row7 col2\" >0.7477</td>\n",
       "                        <td id=\"T_a0ace7fb_39bf_11eb_bec7_a0c5892fde05row7_col3\" class=\"data row7 col3\" >0.6572</td>\n",
       "                        <td id=\"T_a0ace7fb_39bf_11eb_bec7_a0c5892fde05row7_col4\" class=\"data row7 col4\" >0.7244</td>\n",
       "                        <td id=\"T_a0ace7fb_39bf_11eb_bec7_a0c5892fde05row7_col5\" class=\"data row7 col5\" >0.6891</td>\n",
       "                        <td id=\"T_a0ace7fb_39bf_11eb_bec7_a0c5892fde05row7_col6\" class=\"data row7 col6\" >0.3522</td>\n",
       "                        <td id=\"T_a0ace7fb_39bf_11eb_bec7_a0c5892fde05row7_col7\" class=\"data row7 col7\" >0.3541</td>\n",
       "                        <td id=\"T_a0ace7fb_39bf_11eb_bec7_a0c5892fde05row7_col8\" class=\"data row7 col8\" >2.0672</td>\n",
       "            </tr>\n",
       "            <tr>\n",
       "                        <th id=\"T_a0ace7fb_39bf_11eb_bec7_a0c5892fde05level0_row8\" class=\"row_heading level0 row8\" >8</th>\n",
       "                        <td id=\"T_a0ace7fb_39bf_11eb_bec7_a0c5892fde05row8_col0\" class=\"data row8 col0\" >Random Forest Classifier</td>\n",
       "                        <td id=\"T_a0ace7fb_39bf_11eb_bec7_a0c5892fde05row8_col1\" class=\"data row8 col1\" >0.6686</td>\n",
       "                        <td id=\"T_a0ace7fb_39bf_11eb_bec7_a0c5892fde05row8_col2\" class=\"data row8 col2\" >0.7292</td>\n",
       "                        <td id=\"T_a0ace7fb_39bf_11eb_bec7_a0c5892fde05row8_col3\" class=\"data row8 col3\" >0.6181</td>\n",
       "                        <td id=\"T_a0ace7fb_39bf_11eb_bec7_a0c5892fde05row8_col4\" class=\"data row8 col4\" >0.7339</td>\n",
       "                        <td id=\"T_a0ace7fb_39bf_11eb_bec7_a0c5892fde05row8_col5\" class=\"data row8 col5\" >0.6709</td>\n",
       "                        <td id=\"T_a0ace7fb_39bf_11eb_bec7_a0c5892fde05row8_col6\" class=\"data row8 col6\" >0.3421</td>\n",
       "                        <td id=\"T_a0ace7fb_39bf_11eb_bec7_a0c5892fde05row8_col7\" class=\"data row8 col7\" >0.3473</td>\n",
       "                        <td id=\"T_a0ace7fb_39bf_11eb_bec7_a0c5892fde05row8_col8\" class=\"data row8 col8\" >0.2142</td>\n",
       "            </tr>\n",
       "            <tr>\n",
       "                        <th id=\"T_a0ace7fb_39bf_11eb_bec7_a0c5892fde05level0_row9\" class=\"row_heading level0 row9\" >9</th>\n",
       "                        <td id=\"T_a0ace7fb_39bf_11eb_bec7_a0c5892fde05row9_col0\" class=\"data row9 col0\" >Quadratic Discriminant Analysis</td>\n",
       "                        <td id=\"T_a0ace7fb_39bf_11eb_bec7_a0c5892fde05row9_col1\" class=\"data row9 col1\" >0.6678</td>\n",
       "                        <td id=\"T_a0ace7fb_39bf_11eb_bec7_a0c5892fde05row9_col2\" class=\"data row9 col2\" >0.7216</td>\n",
       "                        <td id=\"T_a0ace7fb_39bf_11eb_bec7_a0c5892fde05row9_col3\" class=\"data row9 col3\" >0.6317</td>\n",
       "                        <td id=\"T_a0ace7fb_39bf_11eb_bec7_a0c5892fde05row9_col4\" class=\"data row9 col4\" >0.7273</td>\n",
       "                        <td id=\"T_a0ace7fb_39bf_11eb_bec7_a0c5892fde05row9_col5\" class=\"data row9 col5\" >0.6746</td>\n",
       "                        <td id=\"T_a0ace7fb_39bf_11eb_bec7_a0c5892fde05row9_col6\" class=\"data row9 col6\" >0.3385</td>\n",
       "                        <td id=\"T_a0ace7fb_39bf_11eb_bec7_a0c5892fde05row9_col7\" class=\"data row9 col7\" >0.3435</td>\n",
       "                        <td id=\"T_a0ace7fb_39bf_11eb_bec7_a0c5892fde05row9_col8\" class=\"data row9 col8\" >0.1697</td>\n",
       "            </tr>\n",
       "            <tr>\n",
       "                        <th id=\"T_a0ace7fb_39bf_11eb_bec7_a0c5892fde05level0_row10\" class=\"row_heading level0 row10\" >10</th>\n",
       "                        <td id=\"T_a0ace7fb_39bf_11eb_bec7_a0c5892fde05row10_col0\" class=\"data row10 col0\" >Naive Bayes</td>\n",
       "                        <td id=\"T_a0ace7fb_39bf_11eb_bec7_a0c5892fde05row10_col1\" class=\"data row10 col1\" >0.6688</td>\n",
       "                        <td id=\"T_a0ace7fb_39bf_11eb_bec7_a0c5892fde05row10_col2\" class=\"data row10 col2\" >0.7211</td>\n",
       "                        <td id=\"T_a0ace7fb_39bf_11eb_bec7_a0c5892fde05row10_col3\" class=\"data row10 col3\" >0.6072</td>\n",
       "                        <td id=\"T_a0ace7fb_39bf_11eb_bec7_a0c5892fde05row10_col4\" class=\"data row10 col4\" >0.7404</td>\n",
       "                        <td id=\"T_a0ace7fb_39bf_11eb_bec7_a0c5892fde05row10_col5\" class=\"data row10 col5\" >0.6671</td>\n",
       "                        <td id=\"T_a0ace7fb_39bf_11eb_bec7_a0c5892fde05row10_col6\" class=\"data row10 col6\" >0.3440</td>\n",
       "                        <td id=\"T_a0ace7fb_39bf_11eb_bec7_a0c5892fde05row10_col7\" class=\"data row10 col7\" >0.3508</td>\n",
       "                        <td id=\"T_a0ace7fb_39bf_11eb_bec7_a0c5892fde05row10_col8\" class=\"data row10 col8\" >0.0605</td>\n",
       "            </tr>\n",
       "            <tr>\n",
       "                        <th id=\"T_a0ace7fb_39bf_11eb_bec7_a0c5892fde05level0_row11\" class=\"row_heading level0 row11\" >11</th>\n",
       "                        <td id=\"T_a0ace7fb_39bf_11eb_bec7_a0c5892fde05row11_col0\" class=\"data row11 col0\" >Decision Tree Classifier</td>\n",
       "                        <td id=\"T_a0ace7fb_39bf_11eb_bec7_a0c5892fde05row11_col1\" class=\"data row11 col1\" >0.6128</td>\n",
       "                        <td id=\"T_a0ace7fb_39bf_11eb_bec7_a0c5892fde05row11_col2\" class=\"data row11 col2\" >0.6098</td>\n",
       "                        <td id=\"T_a0ace7fb_39bf_11eb_bec7_a0c5892fde05row11_col3\" class=\"data row11 col3\" >0.6419</td>\n",
       "                        <td id=\"T_a0ace7fb_39bf_11eb_bec7_a0c5892fde05row11_col4\" class=\"data row11 col4\" >0.6472</td>\n",
       "                        <td id=\"T_a0ace7fb_39bf_11eb_bec7_a0c5892fde05row11_col5\" class=\"data row11 col5\" >0.6445</td>\n",
       "                        <td id=\"T_a0ace7fb_39bf_11eb_bec7_a0c5892fde05row11_col6\" class=\"data row11 col6\" >0.2195</td>\n",
       "                        <td id=\"T_a0ace7fb_39bf_11eb_bec7_a0c5892fde05row11_col7\" class=\"data row11 col7\" >0.2195</td>\n",
       "                        <td id=\"T_a0ace7fb_39bf_11eb_bec7_a0c5892fde05row11_col8\" class=\"data row11 col8\" >0.4491</td>\n",
       "            </tr>\n",
       "            <tr>\n",
       "                        <th id=\"T_a0ace7fb_39bf_11eb_bec7_a0c5892fde05level0_row12\" class=\"row_heading level0 row12\" >12</th>\n",
       "                        <td id=\"T_a0ace7fb_39bf_11eb_bec7_a0c5892fde05row12_col0\" class=\"data row12 col0\" >K Neighbors Classifier</td>\n",
       "                        <td id=\"T_a0ace7fb_39bf_11eb_bec7_a0c5892fde05row12_col1\" class=\"data row12 col1\" >0.5702</td>\n",
       "                        <td id=\"T_a0ace7fb_39bf_11eb_bec7_a0c5892fde05row12_col2\" class=\"data row12 col2\" >0.5865</td>\n",
       "                        <td id=\"T_a0ace7fb_39bf_11eb_bec7_a0c5892fde05row12_col3\" class=\"data row12 col3\" >0.6402</td>\n",
       "                        <td id=\"T_a0ace7fb_39bf_11eb_bec7_a0c5892fde05row12_col4\" class=\"data row12 col4\" >0.6004</td>\n",
       "                        <td id=\"T_a0ace7fb_39bf_11eb_bec7_a0c5892fde05row12_col5\" class=\"data row12 col5\" >0.6196</td>\n",
       "                        <td id=\"T_a0ace7fb_39bf_11eb_bec7_a0c5892fde05row12_col6\" class=\"data row12 col6\" >0.1269</td>\n",
       "                        <td id=\"T_a0ace7fb_39bf_11eb_bec7_a0c5892fde05row12_col7\" class=\"data row12 col7\" >0.1273</td>\n",
       "                        <td id=\"T_a0ace7fb_39bf_11eb_bec7_a0c5892fde05row12_col8\" class=\"data row12 col8\" >0.7423</td>\n",
       "            </tr>\n",
       "            <tr>\n",
       "                        <th id=\"T_a0ace7fb_39bf_11eb_bec7_a0c5892fde05level0_row13\" class=\"row_heading level0 row13\" >13</th>\n",
       "                        <td id=\"T_a0ace7fb_39bf_11eb_bec7_a0c5892fde05row13_col0\" class=\"data row13 col0\" >SVM - Linear Kernel</td>\n",
       "                        <td id=\"T_a0ace7fb_39bf_11eb_bec7_a0c5892fde05row13_col1\" class=\"data row13 col1\" >0.5851</td>\n",
       "                        <td id=\"T_a0ace7fb_39bf_11eb_bec7_a0c5892fde05row13_col2\" class=\"data row13 col2\" >0.0000</td>\n",
       "                        <td id=\"T_a0ace7fb_39bf_11eb_bec7_a0c5892fde05row13_col3\" class=\"data row13 col3\" >0.6341</td>\n",
       "                        <td id=\"T_a0ace7fb_39bf_11eb_bec7_a0c5892fde05row13_col4\" class=\"data row13 col4\" >0.7234</td>\n",
       "                        <td id=\"T_a0ace7fb_39bf_11eb_bec7_a0c5892fde05row13_col5\" class=\"data row13 col5\" >0.5785</td>\n",
       "                        <td id=\"T_a0ace7fb_39bf_11eb_bec7_a0c5892fde05row13_col6\" class=\"data row13 col6\" >0.1541</td>\n",
       "                        <td id=\"T_a0ace7fb_39bf_11eb_bec7_a0c5892fde05row13_col7\" class=\"data row13 col7\" >0.2152</td>\n",
       "                        <td id=\"T_a0ace7fb_39bf_11eb_bec7_a0c5892fde05row13_col8\" class=\"data row13 col8\" >2.3062</td>\n",
       "            </tr>\n",
       "            <tr>\n",
       "                        <th id=\"T_a0ace7fb_39bf_11eb_bec7_a0c5892fde05level0_row14\" class=\"row_heading level0 row14\" >14</th>\n",
       "                        <td id=\"T_a0ace7fb_39bf_11eb_bec7_a0c5892fde05row14_col0\" class=\"data row14 col0\" >Ridge Classifier</td>\n",
       "                        <td id=\"T_a0ace7fb_39bf_11eb_bec7_a0c5892fde05row14_col1\" class=\"data row14 col1\" >0.6919</td>\n",
       "                        <td id=\"T_a0ace7fb_39bf_11eb_bec7_a0c5892fde05row14_col2\" class=\"data row14 col2\" >0.0000</td>\n",
       "                        <td id=\"T_a0ace7fb_39bf_11eb_bec7_a0c5892fde05row14_col3\" class=\"data row14 col3\" >0.6611</td>\n",
       "                        <td id=\"T_a0ace7fb_39bf_11eb_bec7_a0c5892fde05row14_col4\" class=\"data row14 col4\" >0.7464</td>\n",
       "                        <td id=\"T_a0ace7fb_39bf_11eb_bec7_a0c5892fde05row14_col5\" class=\"data row14 col5\" >0.7011</td>\n",
       "                        <td id=\"T_a0ace7fb_39bf_11eb_bec7_a0c5892fde05row14_col6\" class=\"data row14 col6\" >0.3855</td>\n",
       "                        <td id=\"T_a0ace7fb_39bf_11eb_bec7_a0c5892fde05row14_col7\" class=\"data row14 col7\" >0.3886</td>\n",
       "                        <td id=\"T_a0ace7fb_39bf_11eb_bec7_a0c5892fde05row14_col8\" class=\"data row14 col8\" >0.0764</td>\n",
       "            </tr>\n",
       "    </tbody></table>"
      ],
      "text/plain": [
       "<pandas.io.formats.style.Styler at 0x16d0ba8cd60>"
      ]
     },
     "metadata": {},
     "output_type": "display_data"
    }
   ],
   "source": [
    "best_3 = compare_models(sort = 'AUC', n_select = 3)"
   ]
  },
  {
   "cell_type": "code",
   "execution_count": 51,
   "metadata": {},
   "outputs": [
    {
     "data": {
      "text/html": [
       "<style  type=\"text/css\" >\n",
       "#T_e6116d17_39bf_11eb_8372_a0c5892fde05row5_col0,#T_e6116d17_39bf_11eb_8372_a0c5892fde05row5_col1,#T_e6116d17_39bf_11eb_8372_a0c5892fde05row5_col2,#T_e6116d17_39bf_11eb_8372_a0c5892fde05row5_col3,#T_e6116d17_39bf_11eb_8372_a0c5892fde05row5_col4,#T_e6116d17_39bf_11eb_8372_a0c5892fde05row5_col5,#T_e6116d17_39bf_11eb_8372_a0c5892fde05row5_col6{\n",
       "            background:  yellow;\n",
       "        }</style><table id=\"T_e6116d17_39bf_11eb_8372_a0c5892fde05\" ><thead>    <tr>        <th class=\"blank level0\" ></th>        <th class=\"col_heading level0 col0\" >Accuracy</th>        <th class=\"col_heading level0 col1\" >AUC</th>        <th class=\"col_heading level0 col2\" >Recall</th>        <th class=\"col_heading level0 col3\" >Prec.</th>        <th class=\"col_heading level0 col4\" >F1</th>        <th class=\"col_heading level0 col5\" >Kappa</th>        <th class=\"col_heading level0 col6\" >MCC</th>    </tr></thead><tbody>\n",
       "                <tr>\n",
       "                        <th id=\"T_e6116d17_39bf_11eb_8372_a0c5892fde05level0_row0\" class=\"row_heading level0 row0\" >0</th>\n",
       "                        <td id=\"T_e6116d17_39bf_11eb_8372_a0c5892fde05row0_col0\" class=\"data row0 col0\" >0.7002</td>\n",
       "                        <td id=\"T_e6116d17_39bf_11eb_8372_a0c5892fde05row0_col1\" class=\"data row0 col1\" >0.7788</td>\n",
       "                        <td id=\"T_e6116d17_39bf_11eb_8372_a0c5892fde05row0_col2\" class=\"data row0 col2\" >0.6500</td>\n",
       "                        <td id=\"T_e6116d17_39bf_11eb_8372_a0c5892fde05row0_col3\" class=\"data row0 col3\" >0.7663</td>\n",
       "                        <td id=\"T_e6116d17_39bf_11eb_8372_a0c5892fde05row0_col4\" class=\"data row0 col4\" >0.7034</td>\n",
       "                        <td id=\"T_e6116d17_39bf_11eb_8372_a0c5892fde05row0_col5\" class=\"data row0 col5\" >0.4045</td>\n",
       "                        <td id=\"T_e6116d17_39bf_11eb_8372_a0c5892fde05row0_col6\" class=\"data row0 col6\" >0.4101</td>\n",
       "            </tr>\n",
       "            <tr>\n",
       "                        <th id=\"T_e6116d17_39bf_11eb_8372_a0c5892fde05level0_row1\" class=\"row_heading level0 row1\" >1</th>\n",
       "                        <td id=\"T_e6116d17_39bf_11eb_8372_a0c5892fde05row1_col0\" class=\"data row1 col0\" >0.6899</td>\n",
       "                        <td id=\"T_e6116d17_39bf_11eb_8372_a0c5892fde05row1_col1\" class=\"data row1 col1\" >0.7651</td>\n",
       "                        <td id=\"T_e6116d17_39bf_11eb_8372_a0c5892fde05row1_col2\" class=\"data row1 col2\" >0.6345</td>\n",
       "                        <td id=\"T_e6116d17_39bf_11eb_8372_a0c5892fde05row1_col3\" class=\"data row1 col3\" >0.7588</td>\n",
       "                        <td id=\"T_e6116d17_39bf_11eb_8372_a0c5892fde05row1_col4\" class=\"data row1 col4\" >0.6911</td>\n",
       "                        <td id=\"T_e6116d17_39bf_11eb_8372_a0c5892fde05row1_col5\" class=\"data row1 col5\" >0.3847</td>\n",
       "                        <td id=\"T_e6116d17_39bf_11eb_8372_a0c5892fde05row1_col6\" class=\"data row1 col6\" >0.3909</td>\n",
       "            </tr>\n",
       "            <tr>\n",
       "                        <th id=\"T_e6116d17_39bf_11eb_8372_a0c5892fde05level0_row2\" class=\"row_heading level0 row2\" >2</th>\n",
       "                        <td id=\"T_e6116d17_39bf_11eb_8372_a0c5892fde05row2_col0\" class=\"data row2 col0\" >0.6790</td>\n",
       "                        <td id=\"T_e6116d17_39bf_11eb_8372_a0c5892fde05row2_col1\" class=\"data row2 col1\" >0.7503</td>\n",
       "                        <td id=\"T_e6116d17_39bf_11eb_8372_a0c5892fde05row2_col2\" class=\"data row2 col2\" >0.6261</td>\n",
       "                        <td id=\"T_e6116d17_39bf_11eb_8372_a0c5892fde05row2_col3\" class=\"data row2 col3\" >0.7460</td>\n",
       "                        <td id=\"T_e6116d17_39bf_11eb_8372_a0c5892fde05row2_col4\" class=\"data row2 col4\" >0.6808</td>\n",
       "                        <td id=\"T_e6116d17_39bf_11eb_8372_a0c5892fde05row2_col5\" class=\"data row2 col5\" >0.3629</td>\n",
       "                        <td id=\"T_e6116d17_39bf_11eb_8372_a0c5892fde05row2_col6\" class=\"data row2 col6\" >0.3686</td>\n",
       "            </tr>\n",
       "            <tr>\n",
       "                        <th id=\"T_e6116d17_39bf_11eb_8372_a0c5892fde05level0_row3\" class=\"row_heading level0 row3\" >3</th>\n",
       "                        <td id=\"T_e6116d17_39bf_11eb_8372_a0c5892fde05row3_col0\" class=\"data row3 col0\" >0.6975</td>\n",
       "                        <td id=\"T_e6116d17_39bf_11eb_8372_a0c5892fde05row3_col1\" class=\"data row3 col1\" >0.7706</td>\n",
       "                        <td id=\"T_e6116d17_39bf_11eb_8372_a0c5892fde05row3_col2\" class=\"data row3 col2\" >0.6560</td>\n",
       "                        <td id=\"T_e6116d17_39bf_11eb_8372_a0c5892fde05row3_col3\" class=\"data row3 col3\" >0.7582</td>\n",
       "                        <td id=\"T_e6116d17_39bf_11eb_8372_a0c5892fde05row3_col4\" class=\"data row3 col4\" >0.7034</td>\n",
       "                        <td id=\"T_e6116d17_39bf_11eb_8372_a0c5892fde05row3_col5\" class=\"data row3 col5\" >0.3981</td>\n",
       "                        <td id=\"T_e6116d17_39bf_11eb_8372_a0c5892fde05row3_col6\" class=\"data row3 col6\" >0.4024</td>\n",
       "            </tr>\n",
       "            <tr>\n",
       "                        <th id=\"T_e6116d17_39bf_11eb_8372_a0c5892fde05level0_row4\" class=\"row_heading level0 row4\" >4</th>\n",
       "                        <td id=\"T_e6116d17_39bf_11eb_8372_a0c5892fde05row4_col0\" class=\"data row4 col0\" >0.7027</td>\n",
       "                        <td id=\"T_e6116d17_39bf_11eb_8372_a0c5892fde05row4_col1\" class=\"data row4 col1\" >0.7782</td>\n",
       "                        <td id=\"T_e6116d17_39bf_11eb_8372_a0c5892fde05row4_col2\" class=\"data row4 col2\" >0.6572</td>\n",
       "                        <td id=\"T_e6116d17_39bf_11eb_8372_a0c5892fde05row4_col3\" class=\"data row4 col3\" >0.7660</td>\n",
       "                        <td id=\"T_e6116d17_39bf_11eb_8372_a0c5892fde05row4_col4\" class=\"data row4 col4\" >0.7074</td>\n",
       "                        <td id=\"T_e6116d17_39bf_11eb_8372_a0c5892fde05row4_col5\" class=\"data row4 col5\" >0.4088</td>\n",
       "                        <td id=\"T_e6116d17_39bf_11eb_8372_a0c5892fde05row4_col6\" class=\"data row4 col6\" >0.4138</td>\n",
       "            </tr>\n",
       "            <tr>\n",
       "                        <th id=\"T_e6116d17_39bf_11eb_8372_a0c5892fde05level0_row5\" class=\"row_heading level0 row5\" >Mean</th>\n",
       "                        <td id=\"T_e6116d17_39bf_11eb_8372_a0c5892fde05row5_col0\" class=\"data row5 col0\" >0.6939</td>\n",
       "                        <td id=\"T_e6116d17_39bf_11eb_8372_a0c5892fde05row5_col1\" class=\"data row5 col1\" >0.7686</td>\n",
       "                        <td id=\"T_e6116d17_39bf_11eb_8372_a0c5892fde05row5_col2\" class=\"data row5 col2\" >0.6448</td>\n",
       "                        <td id=\"T_e6116d17_39bf_11eb_8372_a0c5892fde05row5_col3\" class=\"data row5 col3\" >0.7591</td>\n",
       "                        <td id=\"T_e6116d17_39bf_11eb_8372_a0c5892fde05row5_col4\" class=\"data row5 col4\" >0.6972</td>\n",
       "                        <td id=\"T_e6116d17_39bf_11eb_8372_a0c5892fde05row5_col5\" class=\"data row5 col5\" >0.3918</td>\n",
       "                        <td id=\"T_e6116d17_39bf_11eb_8372_a0c5892fde05row5_col6\" class=\"data row5 col6\" >0.3972</td>\n",
       "            </tr>\n",
       "            <tr>\n",
       "                        <th id=\"T_e6116d17_39bf_11eb_8372_a0c5892fde05level0_row6\" class=\"row_heading level0 row6\" >SD</th>\n",
       "                        <td id=\"T_e6116d17_39bf_11eb_8372_a0c5892fde05row6_col0\" class=\"data row6 col0\" >0.0086</td>\n",
       "                        <td id=\"T_e6116d17_39bf_11eb_8372_a0c5892fde05row6_col1\" class=\"data row6 col1\" >0.0105</td>\n",
       "                        <td id=\"T_e6116d17_39bf_11eb_8372_a0c5892fde05row6_col2\" class=\"data row6 col2\" >0.0123</td>\n",
       "                        <td id=\"T_e6116d17_39bf_11eb_8372_a0c5892fde05row6_col3\" class=\"data row6 col3\" >0.0074</td>\n",
       "                        <td id=\"T_e6116d17_39bf_11eb_8372_a0c5892fde05row6_col4\" class=\"data row6 col4\" >0.0099</td>\n",
       "                        <td id=\"T_e6116d17_39bf_11eb_8372_a0c5892fde05row6_col5\" class=\"data row6 col5\" >0.0166</td>\n",
       "                        <td id=\"T_e6116d17_39bf_11eb_8372_a0c5892fde05row6_col6\" class=\"data row6 col6\" >0.0163</td>\n",
       "            </tr>\n",
       "    </tbody></table>"
      ],
      "text/plain": [
       "<pandas.io.formats.style.Styler at 0x16d0b73a370>"
      ]
     },
     "metadata": {},
     "output_type": "display_data"
    }
   ],
   "source": [
    "blended = blend_models(estimator_list = best_3, fold = 5, method = 'soft')"
   ]
  },
  {
   "cell_type": "code",
   "execution_count": 52,
   "metadata": {},
   "outputs": [],
   "source": [
    "predictions = predict_model(blended, data = test)"
   ]
  },
  {
   "cell_type": "code",
   "execution_count": 78,
   "metadata": {},
   "outputs": [
    {
     "data": {
      "text/plain": [
       "0        0.6339\n",
       "1        0.8939\n",
       "2        0.4354\n",
       "3        0.2003\n",
       "4        0.7456\n",
       "          ...  \n",
       "11378    0.4229\n",
       "11379    0.8472\n",
       "11380    0.2455\n",
       "11381    0.3050\n",
       "11382    0.6632\n",
       "Name: Score, Length: 11383, dtype: float64"
      ]
     },
     "execution_count": 78,
     "metadata": {},
     "output_type": "execute_result"
    }
   ],
   "source": [
    "predictions.iloc[:,-1]"
   ]
  },
  {
   "cell_type": "markdown",
   "metadata": {},
   "source": [
    "## 5. 결과 제출"
   ]
  },
  {
   "cell_type": "code",
   "execution_count": 55,
   "metadata": {},
   "outputs": [],
   "source": [
    "submission=pd.read_csv('sample_submission.csv',index_col=0)"
   ]
  },
  {
   "cell_type": "code",
   "execution_count": 66,
   "metadata": {},
   "outputs": [],
   "source": [
    "submission['voted'] = predictions.iloc[:,-1]\n",
    "submission.to_csv('final_submission.csv')"
   ]
  },
  {
   "cell_type": "code",
   "execution_count": null,
   "metadata": {},
   "outputs": [],
   "source": []
  }
 ],
 "metadata": {
  "kernelspec": {
   "display_name": "Python 3",
   "language": "python",
   "name": "python3"
  },
  "language_info": {
   "codemirror_mode": {
    "name": "ipython",
    "version": 3
   },
   "file_extension": ".py",
   "mimetype": "text/x-python",
   "name": "python",
   "nbconvert_exporter": "python",
   "pygments_lexer": "ipython3",
   "version": "3.8.7"
  }
 },
 "nbformat": 4,
 "nbformat_minor": 4
}
